{
 "cells": [
  {
   "cell_type": "markdown",
   "metadata": {},
   "source": [
    "# Steps\n",
    "\n",
    "* Data exploration & visualization \n",
    "* splitting data\n",
    "* Decision tree model\n",
    "* Cross validation\n",
    "* Classification_report\n",
    "* Random forest model\n",
    "* Cross validation (not sure)\n",
    "* Confusion matrix\n",
    "* Classification_report\n",
    "* PCA\n",
    "* gridsearchCV\n",
    "* Decision tree model\n",
    "* Cross validation\n",
    "* Confusion matrix\n",
    "* Classification_report\n",
    "* Random forest model\n",
    "* Cross validation\n",
    "* Confusion matrix\n",
    "* Classification_report\n",
    "* Do the write-up analysis and conclusions."
   ]
  },
  {
   "cell_type": "code",
   "execution_count": 1,
   "metadata": {},
   "outputs": [],
   "source": [
    "# Import data science environment.\n",
    "import math\n",
    "import warnings\n",
    "\n",
    "from IPython.display import display\n",
    "import pandas as pd\n",
    "import numpy as np\n",
    "import scipy\n",
    "import matplotlib.pyplot as plt\n",
    "import seaborn as sns\n",
    "from sklearn import neighbors\n",
    "from sklearn import linear_model\n",
    "from sklearn.model_selection import cross_val_score\n",
    "from sklearn import preprocessing\n",
    "import statsmodels.formula.api as smf\n",
    "\n",
    "from sklearn import ensemble, tree\n",
    "from sklearn.model_selection import cross_val_score\n",
    "\n",
    "\n",
    "# Display preferences\n",
    "%matplotlib inline\n",
    "pd.options.display.float_format = '{:.3f}'.format\n",
    "\n",
    "# ignore harmless error.\n",
    "warnings.filterwarnings(\n",
    "    action='ignore',\n",
    "    module='scipy',\n",
    "    message='^internal gelsd'\n",
    ")\n",
    "warnings.filterwarnings('ignore')"
   ]
  },
  {
   "cell_type": "code",
   "execution_count": 2,
   "metadata": {},
   "outputs": [],
   "source": [
    "df = pd.read_csv(\"Train_UWu5bXk.csv\")"
   ]
  },
  {
   "cell_type": "markdown",
   "metadata": {},
   "source": [
    "### EDA"
   ]
  },
  {
   "cell_type": "code",
   "execution_count": 3,
   "metadata": {},
   "outputs": [
    {
     "name": "stdout",
     "output_type": "stream",
     "text": [
      "<class 'pandas.core.frame.DataFrame'>\n",
      "RangeIndex: 8523 entries, 0 to 8522\n",
      "Data columns (total 12 columns):\n",
      "Item_Identifier              8523 non-null object\n",
      "Item_Weight                  7060 non-null float64\n",
      "Item_Fat_Content             8523 non-null object\n",
      "Item_Visibility              8523 non-null float64\n",
      "Item_Type                    8523 non-null object\n",
      "Item_MRP                     8523 non-null float64\n",
      "Outlet_Identifier            8523 non-null object\n",
      "Outlet_Establishment_Year    8523 non-null int64\n",
      "Outlet_Size                  6113 non-null object\n",
      "Outlet_Location_Type         8523 non-null object\n",
      "Outlet_Type                  8523 non-null object\n",
      "Item_Outlet_Sales            8523 non-null float64\n",
      "dtypes: float64(4), int64(1), object(7)\n",
      "memory usage: 799.2+ KB\n"
     ]
    }
   ],
   "source": [
    "df.info()"
   ]
  },
  {
   "cell_type": "code",
   "execution_count": 4,
   "metadata": {},
   "outputs": [
    {
     "data": {
      "text/html": [
       "<div>\n",
       "<style scoped>\n",
       "    .dataframe tbody tr th:only-of-type {\n",
       "        vertical-align: middle;\n",
       "    }\n",
       "\n",
       "    .dataframe tbody tr th {\n",
       "        vertical-align: top;\n",
       "    }\n",
       "\n",
       "    .dataframe thead th {\n",
       "        text-align: right;\n",
       "    }\n",
       "</style>\n",
       "<table border=\"1\" class=\"dataframe\">\n",
       "  <thead>\n",
       "    <tr style=\"text-align: right;\">\n",
       "      <th></th>\n",
       "      <th>Item_Identifier</th>\n",
       "      <th>Item_Weight</th>\n",
       "      <th>Item_Fat_Content</th>\n",
       "      <th>Item_Visibility</th>\n",
       "      <th>Item_Type</th>\n",
       "      <th>Item_MRP</th>\n",
       "      <th>Outlet_Identifier</th>\n",
       "      <th>Outlet_Establishment_Year</th>\n",
       "      <th>Outlet_Size</th>\n",
       "      <th>Outlet_Location_Type</th>\n",
       "      <th>Outlet_Type</th>\n",
       "      <th>Item_Outlet_Sales</th>\n",
       "    </tr>\n",
       "  </thead>\n",
       "  <tbody>\n",
       "    <tr>\n",
       "      <th>0</th>\n",
       "      <td>FDA15</td>\n",
       "      <td>9.300</td>\n",
       "      <td>Low Fat</td>\n",
       "      <td>0.016</td>\n",
       "      <td>Dairy</td>\n",
       "      <td>249.809</td>\n",
       "      <td>OUT049</td>\n",
       "      <td>1999</td>\n",
       "      <td>Medium</td>\n",
       "      <td>Tier 1</td>\n",
       "      <td>Supermarket Type1</td>\n",
       "      <td>3735.138</td>\n",
       "    </tr>\n",
       "    <tr>\n",
       "      <th>1</th>\n",
       "      <td>DRC01</td>\n",
       "      <td>5.920</td>\n",
       "      <td>Regular</td>\n",
       "      <td>0.019</td>\n",
       "      <td>Soft Drinks</td>\n",
       "      <td>48.269</td>\n",
       "      <td>OUT018</td>\n",
       "      <td>2009</td>\n",
       "      <td>Medium</td>\n",
       "      <td>Tier 3</td>\n",
       "      <td>Supermarket Type2</td>\n",
       "      <td>443.423</td>\n",
       "    </tr>\n",
       "    <tr>\n",
       "      <th>2</th>\n",
       "      <td>FDN15</td>\n",
       "      <td>17.500</td>\n",
       "      <td>Low Fat</td>\n",
       "      <td>0.017</td>\n",
       "      <td>Meat</td>\n",
       "      <td>141.618</td>\n",
       "      <td>OUT049</td>\n",
       "      <td>1999</td>\n",
       "      <td>Medium</td>\n",
       "      <td>Tier 1</td>\n",
       "      <td>Supermarket Type1</td>\n",
       "      <td>2097.270</td>\n",
       "    </tr>\n",
       "    <tr>\n",
       "      <th>3</th>\n",
       "      <td>FDX07</td>\n",
       "      <td>19.200</td>\n",
       "      <td>Regular</td>\n",
       "      <td>0.000</td>\n",
       "      <td>Fruits and Vegetables</td>\n",
       "      <td>182.095</td>\n",
       "      <td>OUT010</td>\n",
       "      <td>1998</td>\n",
       "      <td>NaN</td>\n",
       "      <td>Tier 3</td>\n",
       "      <td>Grocery Store</td>\n",
       "      <td>732.380</td>\n",
       "    </tr>\n",
       "    <tr>\n",
       "      <th>4</th>\n",
       "      <td>NCD19</td>\n",
       "      <td>8.930</td>\n",
       "      <td>Low Fat</td>\n",
       "      <td>0.000</td>\n",
       "      <td>Household</td>\n",
       "      <td>53.861</td>\n",
       "      <td>OUT013</td>\n",
       "      <td>1987</td>\n",
       "      <td>High</td>\n",
       "      <td>Tier 3</td>\n",
       "      <td>Supermarket Type1</td>\n",
       "      <td>994.705</td>\n",
       "    </tr>\n",
       "  </tbody>\n",
       "</table>\n",
       "</div>"
      ],
      "text/plain": [
       "  Item_Identifier  Item_Weight Item_Fat_Content  Item_Visibility  \\\n",
       "0           FDA15        9.300          Low Fat            0.016   \n",
       "1           DRC01        5.920          Regular            0.019   \n",
       "2           FDN15       17.500          Low Fat            0.017   \n",
       "3           FDX07       19.200          Regular            0.000   \n",
       "4           NCD19        8.930          Low Fat            0.000   \n",
       "\n",
       "               Item_Type  Item_MRP Outlet_Identifier  \\\n",
       "0                  Dairy   249.809            OUT049   \n",
       "1            Soft Drinks    48.269            OUT018   \n",
       "2                   Meat   141.618            OUT049   \n",
       "3  Fruits and Vegetables   182.095            OUT010   \n",
       "4              Household    53.861            OUT013   \n",
       "\n",
       "   Outlet_Establishment_Year Outlet_Size Outlet_Location_Type  \\\n",
       "0                       1999      Medium               Tier 1   \n",
       "1                       2009      Medium               Tier 3   \n",
       "2                       1999      Medium               Tier 1   \n",
       "3                       1998         NaN               Tier 3   \n",
       "4                       1987        High               Tier 3   \n",
       "\n",
       "         Outlet_Type  Item_Outlet_Sales  \n",
       "0  Supermarket Type1           3735.138  \n",
       "1  Supermarket Type2            443.423  \n",
       "2  Supermarket Type1           2097.270  \n",
       "3      Grocery Store            732.380  \n",
       "4  Supermarket Type1            994.705  "
      ]
     },
     "execution_count": 4,
     "metadata": {},
     "output_type": "execute_result"
    }
   ],
   "source": [
    "df.head()"
   ]
  },
  {
   "cell_type": "markdown",
   "metadata": {},
   "source": []
  },
  {
   "cell_type": "code",
   "execution_count": 5,
   "metadata": {},
   "outputs": [
    {
     "name": "stdout",
     "output_type": "stream",
     "text": [
      "Item_Identifier\n",
      "1559\n",
      "Item_Fat_Content\n",
      "5\n",
      "Item_Type\n",
      "16\n",
      "Outlet_Identifier\n",
      "10\n",
      "Outlet_Size\n",
      "3\n",
      "Outlet_Location_Type\n",
      "3\n",
      "Outlet_Type\n",
      "4\n"
     ]
    }
   ],
   "source": [
    "categorical = df.select_dtypes(include=['object'])\n",
    "for i in categorical:\n",
    "    column = categorical[i]\n",
    "    print(i)\n",
    "    print(column.nunique())"
   ]
  },
  {
   "cell_type": "markdown",
   "metadata": {},
   "source": [
    "### We can drop the item identifier column, as it not really important to predict the Item Type."
   ]
  },
  {
   "cell_type": "code",
   "execution_count": 6,
   "metadata": {},
   "outputs": [],
   "source": [
    "# Drop other columns with many unique variables and those that don't make sense to be in the model\n",
    "df.drop(['Outlet_Identifier'], 1, inplace=True)"
   ]
  },
  {
   "cell_type": "code",
   "execution_count": 7,
   "metadata": {},
   "outputs": [
    {
     "data": {
      "text/plain": [
       "Item_Identifier                 0\n",
       "Item_Weight                  1463\n",
       "Item_Fat_Content                0\n",
       "Item_Visibility                 0\n",
       "Item_Type                       0\n",
       "Item_MRP                        0\n",
       "Outlet_Establishment_Year       0\n",
       "Outlet_Size                  2410\n",
       "Outlet_Location_Type            0\n",
       "Outlet_Type                     0\n",
       "Item_Outlet_Sales               0\n",
       "dtype: int64"
      ]
     },
     "execution_count": 7,
     "metadata": {},
     "output_type": "execute_result"
    }
   ],
   "source": [
    "df.isna().sum()"
   ]
  },
  {
   "cell_type": "markdown",
   "metadata": {},
   "source": [
    "## Item_Weight"
   ]
  },
  {
   "cell_type": "code",
   "execution_count": 8,
   "metadata": {},
   "outputs": [],
   "source": [
    "df[\"Item_Weight\"].fillna(df[\"Item_Weight\"].mean(), inplace = True)"
   ]
  },
  {
   "cell_type": "code",
   "execution_count": 9,
   "metadata": {},
   "outputs": [],
   "source": [
    "decimals = 2    \n",
    "df['Item_Weight'] = df['Item_Weight'].apply(lambda x: round(x, decimals))"
   ]
  },
  {
   "cell_type": "code",
   "execution_count": 10,
   "metadata": {},
   "outputs": [
    {
     "data": {
      "text/plain": [
       "array([ 9.3 ,  5.92, 17.5 , 19.2 ,  8.93, 10.39, 13.65, 12.86, 16.2 ,\n",
       "       11.8 , 18.5 , 15.1 , 17.6 , 16.35,  9.  , 13.35, 18.85, 14.6 ,\n",
       "       13.85, 13.  ,  7.64, 11.65, 19.25, 18.6 , 18.7 , 17.85, 10.  ,\n",
       "        8.85,  9.8 , 13.6 , 21.35, 12.15,  6.42, 19.6 , 15.85,  7.39,\n",
       "       10.2 ,  9.89, 10.89,  7.91,  9.2 ,  8.37,  7.97, 17.7 , 19.35,\n",
       "        8.64, 15.6 , 18.25,  7.86,  7.83,  8.39, 12.85, 19.  ,  5.91,\n",
       "        7.76, 16.75, 15.5 ,  6.05,  6.3 , 20.85, 20.75,  8.89, 19.7 ,\n",
       "        8.75, 13.3 ,  8.31, 19.75, 17.1 , 10.5 ,  6.63, 14.15,  9.1 ,\n",
       "        7.5 , 16.85,  7.49, 11.6 , 12.65, 20.25,  8.6 , 12.6 ,  8.88,\n",
       "       20.5 , 13.5 ,  7.24,  6.92,  8.02, 12.8 , 16.6 , 14.  , 16.  ,\n",
       "       21.25,  7.37, 18.35,  5.46,  7.27,  6.16, 19.5 , 15.2 , 14.5 ,\n",
       "       13.1 , 12.3 , 11.1 , 11.3 ,  5.75, 11.35,  6.53, 10.3 ,  5.78,\n",
       "       11.85, 18.75,  5.26, 16.1 ,  9.5 , 13.8 , 14.65,  6.67,  6.11,\n",
       "       17.2 ,  6.32,  4.88,  5.42, 14.1 ,  7.55, 17.25, 12.  , 10.1 ,\n",
       "        7.79, 13.15,  8.5 ,  7.63,  9.29, 15.7 ,  8.98, 20.35,  6.59,\n",
       "       19.85,  6.26, 18.2 ,  8.7 ,  7.08,  8.2 ,  7.09,  6.09,  6.15,\n",
       "        9.39, 15.75,  7.47,  6.45, 19.1 , 15.  , 16.7 ,  7.07,  6.48,\n",
       "        9.7 , 11.15,  9.6 , 20.7 ,  5.5 ,  7.89, 17.35,  7.29,  6.17,\n",
       "       11.39,  7.71, 12.1 , 14.35,  8.1 ,  8.05, 16.5 ,  6.79,  7.58,\n",
       "       15.25,  7.61, 18.  , 21.2 ,  8.97, 10.6 ,  6.87, 10.8 , 15.15,\n",
       "       18.1 ,  6.66, 20.1 ,  7.93, 15.35, 12.35,  6.85,  8.78, 14.85,\n",
       "        7.84, 12.5 ,  8.32,  5.76,  5.99, 14.3 ,  6.13,  8.51,  6.65,\n",
       "        5.7 ,  6.36,  8.3 ,  7.56,  8.71,  6.7 , 14.8 , 17.75,  8.57,\n",
       "        6.57,  8.68,  5.63,  9.13,  6.71,  5.82,  5.  ,  7.45,  8.18,\n",
       "        6.98,  7.43, 20.6 ,  8.36, 20.2 ,  5.66,  5.17, 20.  ,  7.67,\n",
       "        4.79,  8.21,  5.84,  7.17,  8.79,  5.32,  5.03,  8.95,  6.28,\n",
       "        7.57,  9.31,  7.02,  6.55, 17.  , 16.25,  5.15,  7.87,  6.58,\n",
       "        7.06,  5.79,  7.42,  6.24,  6.75,  5.86,  5.04,  6.38,  5.67,\n",
       "       11.5 , 21.  , 21.1 ,  4.61,  7.  ,  6.41, 14.7 ,  7.68,  8.19,\n",
       "        8.65, 10.85,  8.42,  7.85,  4.59,  7.51, 11.  , 14.75,  7.59,\n",
       "        5.16,  6.37,  8.23,  5.37,  8.48,  7.54,  4.92,  8.26,  7.95,\n",
       "        8.63,  9.21,  6.96,  8.9 ,  7.21,  7.3 ,  9.27, 10.7 ,  6.21,\n",
       "        7.41,  7.72,  6.12,  6.04,  6.78, 15.3 ,  7.11,  7.52,  4.8 ,\n",
       "        7.6 ,  6.61,  7.33,  8.12,  5.94,  7.35,  5.83,  7.05,  6.8 ,\n",
       "        7.04,  8.96,  5.51,  8.43,  8.27,  7.81,  6.88,  5.44,  5.41,\n",
       "        4.63, 10.65,  5.74,  6.46,  8.84,  7.75,  6.76,  9.06,  7.66,\n",
       "        4.62,  8.76,  7.1 ,  6.2 ,  5.62,  8.52,  7.26,  6.83,  5.33,\n",
       "        5.59,  5.88,  5.19,  6.99,  6.69,  8.62,  7.28,  9.17,  8.15,\n",
       "        5.73,  8.94,  8.92,  7.36,  5.34,  7.22,  6.62,  5.98,  8.06,\n",
       "        6.44,  5.09,  8.8 ,  6.33,  7.31,  9.04,  9.11,  7.14,  4.91,\n",
       "        4.55,  8.  ,  7.32,  6.89,  5.95,  6.86,  6.93,  6.03,  7.16,\n",
       "        5.48,  8.01,  5.8 ,  5.3 ,  6.91,  7.96,  5.11,  8.77,  8.28,\n",
       "        8.38,  8.35,  9.42,  6.4 ,  5.49,  6.52,  8.67,  5.21,  5.4 ])"
      ]
     },
     "execution_count": 10,
     "metadata": {},
     "output_type": "execute_result"
    }
   ],
   "source": [
    "df[\"Item_Weight\"].unique()"
   ]
  },
  {
   "cell_type": "markdown",
   "metadata": {},
   "source": [
    "### Outlet_Size"
   ]
  },
  {
   "cell_type": "code",
   "execution_count": 11,
   "metadata": {},
   "outputs": [
    {
     "data": {
      "text/plain": [
       "array(['Medium', nan, 'High', 'Small'], dtype=object)"
      ]
     },
     "execution_count": 11,
     "metadata": {},
     "output_type": "execute_result"
    }
   ],
   "source": [
    "df.Outlet_Size.unique()"
   ]
  },
  {
   "cell_type": "code",
   "execution_count": 12,
   "metadata": {},
   "outputs": [],
   "source": [
    "df[\"Outlet_Size\"] = df[\"Outlet_Size\"].astype(str)"
   ]
  },
  {
   "cell_type": "code",
   "execution_count": 13,
   "metadata": {},
   "outputs": [
    {
     "data": {
      "text/plain": [
       "array([1, 3, 0, 2])"
      ]
     },
     "execution_count": 13,
     "metadata": {},
     "output_type": "execute_result"
    }
   ],
   "source": [
    "from sklearn.preprocessing import LabelEncoder\n",
    "\n",
    "LE = LabelEncoder()\n",
    "df['Outlet_Size'] = LE.fit_transform(df['Outlet_Size'])\n",
    "\n",
    "df['Outlet_Size'].unique()"
   ]
  },
  {
   "cell_type": "code",
   "execution_count": 14,
   "metadata": {},
   "outputs": [],
   "source": [
    "df.Outlet_Size = pd.to_numeric(df[\"Outlet_Size\"], errors='coerce')"
   ]
  },
  {
   "cell_type": "markdown",
   "metadata": {},
   "source": [
    "### Item_Fat_Content"
   ]
  },
  {
   "cell_type": "code",
   "execution_count": 15,
   "metadata": {},
   "outputs": [
    {
     "data": {
      "text/plain": [
       "array(['Low Fat', 'Regular', 'low fat', 'LF', 'reg'], dtype=object)"
      ]
     },
     "execution_count": 15,
     "metadata": {},
     "output_type": "execute_result"
    }
   ],
   "source": [
    "df.Item_Fat_Content.unique()"
   ]
  },
  {
   "cell_type": "markdown",
   "metadata": {},
   "source": [
    "### Outlet_Location_Type"
   ]
  },
  {
   "cell_type": "code",
   "execution_count": 16,
   "metadata": {},
   "outputs": [
    {
     "data": {
      "text/plain": [
       "array(['Tier 1', 'Tier 3', 'Tier 2'], dtype=object)"
      ]
     },
     "execution_count": 16,
     "metadata": {},
     "output_type": "execute_result"
    }
   ],
   "source": [
    "df.Outlet_Location_Type.unique()"
   ]
  },
  {
   "cell_type": "code",
   "execution_count": 17,
   "metadata": {},
   "outputs": [
    {
     "data": {
      "text/plain": [
       "array([0, 2, 1])"
      ]
     },
     "execution_count": 17,
     "metadata": {},
     "output_type": "execute_result"
    }
   ],
   "source": [
    "LE = LabelEncoder()\n",
    "df['Outlet_Location_Type'] = LE.fit_transform(df['Outlet_Location_Type'])\n",
    "\n",
    "df['Outlet_Location_Type'].unique()"
   ]
  },
  {
   "cell_type": "markdown",
   "metadata": {},
   "source": [
    "### Outlet_Type"
   ]
  },
  {
   "cell_type": "code",
   "execution_count": 18,
   "metadata": {},
   "outputs": [
    {
     "data": {
      "text/plain": [
       "<bound method Series.unique of 0       Supermarket Type1\n",
       "1       Supermarket Type2\n",
       "2       Supermarket Type1\n",
       "3           Grocery Store\n",
       "4       Supermarket Type1\n",
       "              ...        \n",
       "8518    Supermarket Type1\n",
       "8519    Supermarket Type1\n",
       "8520    Supermarket Type1\n",
       "8521    Supermarket Type2\n",
       "8522    Supermarket Type1\n",
       "Name: Outlet_Type, Length: 8523, dtype: object>"
      ]
     },
     "execution_count": 18,
     "metadata": {},
     "output_type": "execute_result"
    }
   ],
   "source": [
    "df.Outlet_Type.unique"
   ]
  },
  {
   "cell_type": "code",
   "execution_count": 19,
   "metadata": {},
   "outputs": [
    {
     "data": {
      "text/plain": [
       "array([1, 2, 0, 3])"
      ]
     },
     "execution_count": 19,
     "metadata": {},
     "output_type": "execute_result"
    }
   ],
   "source": [
    "df['Outlet_Type'] = LE.fit_transform(df['Outlet_Type'])\n",
    "\n",
    "df['Outlet_Type'].unique()"
   ]
  },
  {
   "cell_type": "code",
   "execution_count": 20,
   "metadata": {},
   "outputs": [
    {
     "data": {
      "text/plain": [
       "array([1, 2, 0, 3])"
      ]
     },
     "execution_count": 20,
     "metadata": {},
     "output_type": "execute_result"
    }
   ],
   "source": [
    "df.Outlet_Type.unique()"
   ]
  },
  {
   "cell_type": "markdown",
   "metadata": {},
   "source": [
    "### Establishment Year"
   ]
  },
  {
   "cell_type": "code",
   "execution_count": 21,
   "metadata": {},
   "outputs": [
    {
     "data": {
      "text/plain": [
       "array([1999, 2009, 1998, 1987, 1985, 2002, 2007, 1997, 2004])"
      ]
     },
     "execution_count": 21,
     "metadata": {},
     "output_type": "execute_result"
    }
   ],
   "source": [
    "df.Outlet_Establishment_Year.unique()"
   ]
  },
  {
   "cell_type": "code",
   "execution_count": 22,
   "metadata": {},
   "outputs": [],
   "source": [
    "df[\"Outlet_Establishment_Year\"] = pd.get_dummies(df[\"Outlet_Establishment_Year\"])"
   ]
  },
  {
   "cell_type": "code",
   "execution_count": 23,
   "metadata": {},
   "outputs": [],
   "source": [
    "df.Outlet_Establishment_Year = pd.to_numeric(df[\"Outlet_Establishment_Year\"], errors='coerce')"
   ]
  },
  {
   "cell_type": "markdown",
   "metadata": {},
   "source": [
    "## Item_Identifier"
   ]
  },
  {
   "cell_type": "code",
   "execution_count": 24,
   "metadata": {},
   "outputs": [
    {
     "data": {
      "text/plain": [
       "array(['FDA15', 'DRC01', 'FDN15', ..., 'NCF55', 'NCW30', 'NCW05'],\n",
       "      dtype=object)"
      ]
     },
     "execution_count": 24,
     "metadata": {},
     "output_type": "execute_result"
    }
   ],
   "source": [
    "df.Item_Identifier.unique()"
   ]
  },
  {
   "cell_type": "code",
   "execution_count": 25,
   "metadata": {},
   "outputs": [],
   "source": [
    "df[\"Item_Identifier\"] = pd.get_dummies(df[\"Item_Identifier\"])"
   ]
  },
  {
   "cell_type": "code",
   "execution_count": 26,
   "metadata": {},
   "outputs": [],
   "source": [
    "df.Item_Identifier = pd.to_numeric(df[\"Item_Identifier\"], errors='coerce')"
   ]
  },
  {
   "cell_type": "markdown",
   "metadata": {},
   "source": [
    "## Item_MRP"
   ]
  },
  {
   "cell_type": "code",
   "execution_count": 27,
   "metadata": {},
   "outputs": [],
   "source": [
    " ## Let's round the values\n",
    "decimals = 2    \n",
    "df['Item_MRP'] = df['Item_MRP'].apply(lambda x: round(x, decimals))\n",
    "df['Item_Outlet_Sales'] = df['Item_Outlet_Sales'].apply(lambda x: round(x, decimals))"
   ]
  },
  {
   "cell_type": "markdown",
   "metadata": {},
   "source": [
    "### Item_Type"
   ]
  },
  {
   "cell_type": "code",
   "execution_count": 28,
   "metadata": {},
   "outputs": [
    {
     "data": {
      "text/plain": [
       "array([ 4, 14, 10,  6,  9,  0, 13,  5,  2,  8,  7,  3,  1, 15, 11, 12])"
      ]
     },
     "execution_count": 28,
     "metadata": {},
     "output_type": "execute_result"
    }
   ],
   "source": [
    "df['Item_Type'] = LE.fit_transform(df['Item_Type'])\n",
    "\n",
    "df['Item_Type'].unique()\n",
    "\n"
   ]
  },
  {
   "cell_type": "markdown",
   "metadata": {},
   "source": [
    "## Visualization"
   ]
  },
  {
   "cell_type": "code",
   "execution_count": 29,
   "metadata": {},
   "outputs": [
    {
     "data": {
      "text/plain": [
       "Index(['Item_Identifier', 'Item_Weight', 'Item_Fat_Content', 'Item_Visibility',\n",
       "       'Item_Type', 'Item_MRP', 'Outlet_Establishment_Year', 'Outlet_Size',\n",
       "       'Outlet_Location_Type', 'Outlet_Type', 'Item_Outlet_Sales'],\n",
       "      dtype='object')"
      ]
     },
     "execution_count": 29,
     "metadata": {},
     "output_type": "execute_result"
    }
   ],
   "source": [
    "df.columns"
   ]
  },
  {
   "cell_type": "code",
   "execution_count": 30,
   "metadata": {},
   "outputs": [
    {
     "data": {
      "image/png": "[encoded data removed]",
      "text/plain": [
       "<Figure size 720x720 with 1 Axes>"
      ]
     },
     "metadata": {
      "needs_background": "light"
     },
     "output_type": "display_data"
    }
   ],
   "source": [
    "plt.figure(figsize = (10,10))\n",
    "df['Item_Type'].value_counts()\n",
    "\n",
    "import seaborn as sns\n",
    "\n",
    "sns.set(style=\"whitegrid\")\n",
    "splot = sns.countplot(x=\"Item_Type\",data=df[['Item_Type']])\n",
    "plt.xticks(rotation = 45)\n",
    "for p in splot.patches:\n",
    "    splot.annotate(format(p.get_height(), '.0f'), \n",
    "                   (p.get_x() + p.get_width() / 2., \n",
    "                    p.get_height()), \n",
    "                   ha = 'center', va = 'center', xytext = (0, 10), textcoords = 'offset points')"
   ]
  },
  {
   "cell_type": "code",
   "execution_count": 31,
   "metadata": {},
   "outputs": [
    {
     "data": {
      "text/plain": [
       "<Figure size 720x720 with 0 Axes>"
      ]
     },
     "metadata": {},
     "output_type": "display_data"
    },
    {
     "data": {
      "image/png": "[encoded data removed]",
      "text/plain": [
       "<Figure size 1440x1440 with 2 Axes>"
      ]
     },
     "metadata": {},
     "output_type": "display_data"
    }
   ],
   "source": [
    "plt.figure(figsize=(10, 10))\n",
    "\n",
    "corr_matrix = np.abs(df.corr())\n",
    "plt.figure(figsize=(20,20))\n",
    "sns.heatmap(corr_matrix, square=True, annot=True, linewidths=.5)\n",
    "plt.show()"
   ]
  },
  {
   "cell_type": "markdown",
   "metadata": {},
   "source": [
    "### We can see that the top correlated variables are Item_Outlet_Sales, Outlet_Size, Outlet_Type, Outlet_Location_Type"
   ]
  },
  {
   "cell_type": "code",
   "execution_count": 32,
   "metadata": {},
   "outputs": [
    {
     "data": {
      "text/html": [
       "<div>\n",
       "<style scoped>\n",
       "    .dataframe tbody tr th:only-of-type {\n",
       "        vertical-align: middle;\n",
       "    }\n",
       "\n",
       "    .dataframe tbody tr th {\n",
       "        vertical-align: top;\n",
       "    }\n",
       "\n",
       "    .dataframe thead th {\n",
       "        text-align: right;\n",
       "    }\n",
       "</style>\n",
       "<table border=\"1\" class=\"dataframe\">\n",
       "  <thead>\n",
       "    <tr style=\"text-align: right;\">\n",
       "      <th></th>\n",
       "      <th>Item_Identifier</th>\n",
       "      <th>Item_Weight</th>\n",
       "      <th>Item_Fat_Content</th>\n",
       "      <th>Item_Visibility</th>\n",
       "      <th>Item_Type</th>\n",
       "      <th>Item_MRP</th>\n",
       "      <th>Outlet_Establishment_Year</th>\n",
       "      <th>Outlet_Size</th>\n",
       "      <th>Outlet_Location_Type</th>\n",
       "      <th>Outlet_Type</th>\n",
       "      <th>Item_Outlet_Sales</th>\n",
       "    </tr>\n",
       "  </thead>\n",
       "  <tbody>\n",
       "    <tr>\n",
       "      <th>0</th>\n",
       "      <td>0</td>\n",
       "      <td>9.300</td>\n",
       "      <td>Low Fat</td>\n",
       "      <td>0.016</td>\n",
       "      <td>4</td>\n",
       "      <td>249.810</td>\n",
       "      <td>0</td>\n",
       "      <td>1</td>\n",
       "      <td>0</td>\n",
       "      <td>1</td>\n",
       "      <td>3735.140</td>\n",
       "    </tr>\n",
       "    <tr>\n",
       "      <th>1</th>\n",
       "      <td>0</td>\n",
       "      <td>5.920</td>\n",
       "      <td>Regular</td>\n",
       "      <td>0.019</td>\n",
       "      <td>14</td>\n",
       "      <td>48.270</td>\n",
       "      <td>0</td>\n",
       "      <td>1</td>\n",
       "      <td>2</td>\n",
       "      <td>2</td>\n",
       "      <td>443.420</td>\n",
       "    </tr>\n",
       "    <tr>\n",
       "      <th>2</th>\n",
       "      <td>0</td>\n",
       "      <td>17.500</td>\n",
       "      <td>Low Fat</td>\n",
       "      <td>0.017</td>\n",
       "      <td>10</td>\n",
       "      <td>141.620</td>\n",
       "      <td>0</td>\n",
       "      <td>1</td>\n",
       "      <td>0</td>\n",
       "      <td>1</td>\n",
       "      <td>2097.270</td>\n",
       "    </tr>\n",
       "    <tr>\n",
       "      <th>3</th>\n",
       "      <td>0</td>\n",
       "      <td>19.200</td>\n",
       "      <td>Regular</td>\n",
       "      <td>0.000</td>\n",
       "      <td>6</td>\n",
       "      <td>182.090</td>\n",
       "      <td>0</td>\n",
       "      <td>3</td>\n",
       "      <td>2</td>\n",
       "      <td>0</td>\n",
       "      <td>732.380</td>\n",
       "    </tr>\n",
       "    <tr>\n",
       "      <th>4</th>\n",
       "      <td>0</td>\n",
       "      <td>8.930</td>\n",
       "      <td>Low Fat</td>\n",
       "      <td>0.000</td>\n",
       "      <td>9</td>\n",
       "      <td>53.860</td>\n",
       "      <td>0</td>\n",
       "      <td>0</td>\n",
       "      <td>2</td>\n",
       "      <td>1</td>\n",
       "      <td>994.710</td>\n",
       "    </tr>\n",
       "    <tr>\n",
       "      <th>5</th>\n",
       "      <td>0</td>\n",
       "      <td>10.390</td>\n",
       "      <td>Regular</td>\n",
       "      <td>0.000</td>\n",
       "      <td>0</td>\n",
       "      <td>51.400</td>\n",
       "      <td>0</td>\n",
       "      <td>1</td>\n",
       "      <td>2</td>\n",
       "      <td>2</td>\n",
       "      <td>556.610</td>\n",
       "    </tr>\n",
       "    <tr>\n",
       "      <th>6</th>\n",
       "      <td>0</td>\n",
       "      <td>13.650</td>\n",
       "      <td>Regular</td>\n",
       "      <td>0.013</td>\n",
       "      <td>13</td>\n",
       "      <td>57.660</td>\n",
       "      <td>0</td>\n",
       "      <td>0</td>\n",
       "      <td>2</td>\n",
       "      <td>1</td>\n",
       "      <td>343.550</td>\n",
       "    </tr>\n",
       "    <tr>\n",
       "      <th>7</th>\n",
       "      <td>0</td>\n",
       "      <td>12.860</td>\n",
       "      <td>Low Fat</td>\n",
       "      <td>0.127</td>\n",
       "      <td>13</td>\n",
       "      <td>107.760</td>\n",
       "      <td>1</td>\n",
       "      <td>1</td>\n",
       "      <td>2</td>\n",
       "      <td>3</td>\n",
       "      <td>4022.760</td>\n",
       "    </tr>\n",
       "    <tr>\n",
       "      <th>8</th>\n",
       "      <td>0</td>\n",
       "      <td>16.200</td>\n",
       "      <td>Regular</td>\n",
       "      <td>0.017</td>\n",
       "      <td>5</td>\n",
       "      <td>96.970</td>\n",
       "      <td>0</td>\n",
       "      <td>3</td>\n",
       "      <td>1</td>\n",
       "      <td>1</td>\n",
       "      <td>1076.600</td>\n",
       "    </tr>\n",
       "    <tr>\n",
       "      <th>9</th>\n",
       "      <td>0</td>\n",
       "      <td>19.200</td>\n",
       "      <td>Regular</td>\n",
       "      <td>0.094</td>\n",
       "      <td>5</td>\n",
       "      <td>187.820</td>\n",
       "      <td>0</td>\n",
       "      <td>3</td>\n",
       "      <td>1</td>\n",
       "      <td>1</td>\n",
       "      <td>4710.530</td>\n",
       "    </tr>\n",
       "    <tr>\n",
       "      <th>10</th>\n",
       "      <td>0</td>\n",
       "      <td>11.800</td>\n",
       "      <td>Low Fat</td>\n",
       "      <td>0.000</td>\n",
       "      <td>6</td>\n",
       "      <td>45.540</td>\n",
       "      <td>0</td>\n",
       "      <td>1</td>\n",
       "      <td>0</td>\n",
       "      <td>1</td>\n",
       "      <td>1516.030</td>\n",
       "    </tr>\n",
       "    <tr>\n",
       "      <th>11</th>\n",
       "      <td>0</td>\n",
       "      <td>18.500</td>\n",
       "      <td>Regular</td>\n",
       "      <td>0.045</td>\n",
       "      <td>4</td>\n",
       "      <td>144.110</td>\n",
       "      <td>0</td>\n",
       "      <td>2</td>\n",
       "      <td>0</td>\n",
       "      <td>1</td>\n",
       "      <td>2187.150</td>\n",
       "    </tr>\n",
       "    <tr>\n",
       "      <th>12</th>\n",
       "      <td>0</td>\n",
       "      <td>15.100</td>\n",
       "      <td>Regular</td>\n",
       "      <td>0.100</td>\n",
       "      <td>6</td>\n",
       "      <td>145.480</td>\n",
       "      <td>0</td>\n",
       "      <td>1</td>\n",
       "      <td>0</td>\n",
       "      <td>1</td>\n",
       "      <td>1589.260</td>\n",
       "    </tr>\n",
       "    <tr>\n",
       "      <th>13</th>\n",
       "      <td>0</td>\n",
       "      <td>17.600</td>\n",
       "      <td>Regular</td>\n",
       "      <td>0.047</td>\n",
       "      <td>13</td>\n",
       "      <td>119.680</td>\n",
       "      <td>0</td>\n",
       "      <td>2</td>\n",
       "      <td>0</td>\n",
       "      <td>1</td>\n",
       "      <td>2145.210</td>\n",
       "    </tr>\n",
       "    <tr>\n",
       "      <th>14</th>\n",
       "      <td>0</td>\n",
       "      <td>16.350</td>\n",
       "      <td>Low Fat</td>\n",
       "      <td>0.068</td>\n",
       "      <td>6</td>\n",
       "      <td>196.440</td>\n",
       "      <td>0</td>\n",
       "      <td>0</td>\n",
       "      <td>2</td>\n",
       "      <td>1</td>\n",
       "      <td>1977.430</td>\n",
       "    </tr>\n",
       "    <tr>\n",
       "      <th>15</th>\n",
       "      <td>0</td>\n",
       "      <td>9.000</td>\n",
       "      <td>Regular</td>\n",
       "      <td>0.069</td>\n",
       "      <td>2</td>\n",
       "      <td>56.360</td>\n",
       "      <td>0</td>\n",
       "      <td>2</td>\n",
       "      <td>0</td>\n",
       "      <td>1</td>\n",
       "      <td>1547.320</td>\n",
       "    </tr>\n",
       "    <tr>\n",
       "      <th>16</th>\n",
       "      <td>0</td>\n",
       "      <td>11.800</td>\n",
       "      <td>Low Fat</td>\n",
       "      <td>0.009</td>\n",
       "      <td>8</td>\n",
       "      <td>115.350</td>\n",
       "      <td>0</td>\n",
       "      <td>1</td>\n",
       "      <td>2</td>\n",
       "      <td>2</td>\n",
       "      <td>1621.890</td>\n",
       "    </tr>\n",
       "    <tr>\n",
       "      <th>17</th>\n",
       "      <td>0</td>\n",
       "      <td>9.000</td>\n",
       "      <td>Regular</td>\n",
       "      <td>0.069</td>\n",
       "      <td>2</td>\n",
       "      <td>54.360</td>\n",
       "      <td>0</td>\n",
       "      <td>1</td>\n",
       "      <td>0</td>\n",
       "      <td>1</td>\n",
       "      <td>718.400</td>\n",
       "    </tr>\n",
       "    <tr>\n",
       "      <th>18</th>\n",
       "      <td>0</td>\n",
       "      <td>12.860</td>\n",
       "      <td>Low Fat</td>\n",
       "      <td>0.034</td>\n",
       "      <td>7</td>\n",
       "      <td>113.280</td>\n",
       "      <td>1</td>\n",
       "      <td>1</td>\n",
       "      <td>2</td>\n",
       "      <td>3</td>\n",
       "      <td>2303.670</td>\n",
       "    </tr>\n",
       "    <tr>\n",
       "      <th>19</th>\n",
       "      <td>0</td>\n",
       "      <td>13.350</td>\n",
       "      <td>Low Fat</td>\n",
       "      <td>0.102</td>\n",
       "      <td>4</td>\n",
       "      <td>230.540</td>\n",
       "      <td>0</td>\n",
       "      <td>2</td>\n",
       "      <td>1</td>\n",
       "      <td>1</td>\n",
       "      <td>2748.420</td>\n",
       "    </tr>\n",
       "  </tbody>\n",
       "</table>\n",
       "</div>"
      ],
      "text/plain": [
       "    Item_Identifier  Item_Weight Item_Fat_Content  Item_Visibility  Item_Type  \\\n",
       "0                 0        9.300          Low Fat            0.016          4   \n",
       "1                 0        5.920          Regular            0.019         14   \n",
       "2                 0       17.500          Low Fat            0.017         10   \n",
       "3                 0       19.200          Regular            0.000          6   \n",
       "4                 0        8.930          Low Fat            0.000          9   \n",
       "5                 0       10.390          Regular            0.000          0   \n",
       "6                 0       13.650          Regular            0.013         13   \n",
       "7                 0       12.860          Low Fat            0.127         13   \n",
       "8                 0       16.200          Regular            0.017          5   \n",
       "9                 0       19.200          Regular            0.094          5   \n",
       "10                0       11.800          Low Fat            0.000          6   \n",
       "11                0       18.500          Regular            0.045          4   \n",
       "12                0       15.100          Regular            0.100          6   \n",
       "13                0       17.600          Regular            0.047         13   \n",
       "14                0       16.350          Low Fat            0.068          6   \n",
       "15                0        9.000          Regular            0.069          2   \n",
       "16                0       11.800          Low Fat            0.009          8   \n",
       "17                0        9.000          Regular            0.069          2   \n",
       "18                0       12.860          Low Fat            0.034          7   \n",
       "19                0       13.350          Low Fat            0.102          4   \n",
       "\n",
       "    Item_MRP  Outlet_Establishment_Year  Outlet_Size  Outlet_Location_Type  \\\n",
       "0    249.810                          0            1                     0   \n",
       "1     48.270                          0            1                     2   \n",
       "2    141.620                          0            1                     0   \n",
       "3    182.090                          0            3                     2   \n",
       "4     53.860                          0            0                     2   \n",
       "5     51.400                          0            1                     2   \n",
       "6     57.660                          0            0                     2   \n",
       "7    107.760                          1            1                     2   \n",
       "8     96.970                          0            3                     1   \n",
       "9    187.820                          0            3                     1   \n",
       "10    45.540                          0            1                     0   \n",
       "11   144.110                          0            2                     0   \n",
       "12   145.480                          0            1                     0   \n",
       "13   119.680                          0            2                     0   \n",
       "14   196.440                          0            0                     2   \n",
       "15    56.360                          0            2                     0   \n",
       "16   115.350                          0            1                     2   \n",
       "17    54.360                          0            1                     0   \n",
       "18   113.280                          1            1                     2   \n",
       "19   230.540                          0            2                     1   \n",
       "\n",
       "    Outlet_Type  Item_Outlet_Sales  \n",
       "0             1           3735.140  \n",
       "1             2            443.420  \n",
       "2             1           2097.270  \n",
       "3             0            732.380  \n",
       "4             1            994.710  \n",
       "5             2            556.610  \n",
       "6             1            343.550  \n",
       "7             3           4022.760  \n",
       "8             1           1076.600  \n",
       "9             1           4710.530  \n",
       "10            1           1516.030  \n",
       "11            1           2187.150  \n",
       "12            1           1589.260  \n",
       "13            1           2145.210  \n",
       "14            1           1977.430  \n",
       "15            1           1547.320  \n",
       "16            2           1621.890  \n",
       "17            1            718.400  \n",
       "18            3           2303.670  \n",
       "19            1           2748.420  "
      ]
     },
     "execution_count": 32,
     "metadata": {},
     "output_type": "execute_result"
    }
   ],
   "source": [
    "df.head(20)"
   ]
  },
  {
   "cell_type": "markdown",
   "metadata": {},
   "source": [
    "# Splitting\n",
    "\n",
    "### For this model, as mentioned above, we will be taking item type (the Item_Fat_Content) for modeling."
   ]
  },
  {
   "cell_type": "code",
   "execution_count": 33,
   "metadata": {},
   "outputs": [
    {
     "name": "stdout",
     "output_type": "stream",
     "text": [
      "Duration: 0:00:03.209126\n"
     ]
    }
   ],
   "source": [
    "from datetime import datetime\n",
    "start_time = datetime.now()\n",
    "\n",
    "from sklearn.model_selection import train_test_split\n",
    "from sklearn import ensemble\n",
    "from sklearn.model_selection import cross_val_score\n",
    "\n",
    "\n",
    "\n",
    "df[\"int_MRP_type\"] = df[\"Item_MRP\"] + df[\"Item_Outlet_Sales\"]\n",
    "\n",
    "rfc = ensemble.RandomForestClassifier(24)\n",
    "\n",
    "\n",
    "X = df.drop('Item_Fat_Content', 1)\n",
    "Y = df.Item_Fat_Content\n",
    "X_train, X_test, y_train, y_test = train_test_split(df.drop('Item_Fat_Content', 1),df.Item_Fat_Content, test_size = 0.30)\n",
    "\n",
    "rfc.fit(X,Y)\n",
    "\n",
    "cross_val_score(rfc, X, Y, cv=10)\n",
    "\n",
    "end_time = datetime.now()\n",
    "print('Duration: {}'.format(end_time - start_time))"
   ]
  },
  {
   "cell_type": "code",
   "execution_count": 34,
   "metadata": {},
   "outputs": [
    {
     "data": {
      "text/plain": [
       "array([0.735363  , 0.75409836, 0.76084408, 0.75381008, 0.74443142,\n",
       "       0.76553341, 0.73356808, 0.77085781, 0.76968273, 0.75618375])"
      ]
     },
     "execution_count": 34,
     "metadata": {},
     "output_type": "execute_result"
    }
   ],
   "source": [
    "cross_val_score(rfc, X, Y, cv=10)"
   ]
  },
  {
   "cell_type": "code",
   "execution_count": 35,
   "metadata": {},
   "outputs": [],
   "source": [
    "\n",
    "#df['Item_Fat_Content'] = pd.get_dummies(df['Item_Fat_Content'])\n",
    "\n",
    "#df['Item_Fat_Content'].unique()"
   ]
  },
  {
   "cell_type": "code",
   "execution_count": 36,
   "metadata": {},
   "outputs": [
    {
     "name": "stdout",
     "output_type": "stream",
     "text": [
      "Duration: 0:00:00.064049\n"
     ]
    }
   ],
   "source": [
    "start_time = datetime.now()\n",
    "\n",
    "from sklearn.tree import DecisionTreeClassifier\n",
    "\n",
    "X = df.drop('Item_Fat_Content', 1)\n",
    "Y = df.Item_Fat_Content\n",
    "X_train, X_test, y_train, y_test = train_test_split(df.drop('Item_Fat_Content', 1),df.Item_Fat_Content, test_size = 0.30)\n",
    "\n",
    "\n",
    "clf = tree.DecisionTreeClassifier()\n",
    "clf.fit(X, Y)\n",
    "\n",
    "end_time = datetime.now()\n",
    "print('Duration: {}'.format(end_time - start_time))\n",
    "# cross_val_score(tree, X, Y, cv=10)"
   ]
  },
  {
   "cell_type": "code",
   "execution_count": 37,
   "metadata": {},
   "outputs": [
    {
     "data": {
      "text/plain": [
       "array([0.74355972, 0.77166276, 0.77725674, 0.77022274, 0.73974209,\n",
       "       0.74794842, 0.75234742, 0.78143361, 0.73678026, 0.75618375])"
      ]
     },
     "execution_count": 37,
     "metadata": {},
     "output_type": "execute_result"
    }
   ],
   "source": [
    "cross_val_score(clf, X, Y, cv=10)"
   ]
  },
  {
   "cell_type": "code",
   "execution_count": 38,
   "metadata": {},
   "outputs": [
    {
     "name": "stdout",
     "output_type": "stream",
     "text": [
      "components count=1, RFC: Input X--> Accuracy: 0.469 (+/- 0.039)\n",
      "components count=2, RFC: Input X--> Accuracy: 0.520 (+/- 0.042)\n",
      "components count=3, RFC: Input X--> Accuracy: 0.554 (+/- 0.019)\n",
      "components count=4, RFC: Input X--> Accuracy: 0.582 (+/- 0.027)\n",
      "components count=5, RFC: Input X--> Accuracy: 0.629 (+/- 0.028)\n",
      "components count=6, RFC: Input X--> Accuracy: 0.651 (+/- 0.038)\n",
      "components count=7, RFC: Input X--> Accuracy: 0.639 (+/- 0.026)\n",
      "components count=8, RFC: Input X--> Accuracy: 0.620 (+/- 0.018)\n",
      "components count=9, RFC: Input X--> Accuracy: 0.623 (+/- 0.026)\n",
      "components count=10, RFC: Input X--> Accuracy: 0.626 (+/- 0.019)\n"
     ]
    }
   ],
   "source": [
    "from sklearn.decomposition import PCA \n",
    "from sklearn.preprocessing import StandardScaler\n",
    "# Instantiate and fit our model.\n",
    "rfc = ensemble.RandomForestClassifier()\n",
    "\n",
    "X_nor = StandardScaler().fit_transform(X)\n",
    "\n",
    "for i in range(1,11):\n",
    "    sklearn_pca = PCA(n_components=i)\n",
    "    X_pca = sklearn_pca.fit_transform(X_nor)\n",
    "    score = cross_val_score(rfc, X_pca, Y, cv=10)\n",
    "    print(\"components count=%s, RFC: Input X--> Accuracy: %0.3f (+/- %0.3f)\" % (i, score.mean(), score.std() * 2))"
   ]
  },
  {
   "cell_type": "markdown",
   "metadata": {},
   "source": [
    "## The best accuracy can be found in component count 10 with 0.623."
   ]
  }
 ],
 "metadata": {
  "kernelspec": {
   "display_name": "Python 3",
   "language": "python",
   "name": "python3"
  },
  "language_info": {
   "codemirror_mode": {
    "name": "ipython",
    "version": 3
   },
   "file_extension": ".py",
   "mimetype": "text/x-python",
   "name": "python",
   "nbconvert_exporter": "python",
   "pygments_lexer": "ipython3",
   "version": "3.7.4"
  }
 },
 "nbformat": 4,
 "nbformat_minor": 2
}
