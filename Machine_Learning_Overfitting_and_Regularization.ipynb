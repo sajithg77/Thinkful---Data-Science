{
  "nbformat": 4,
  "nbformat_minor": 0,
  "metadata": {
    "kernelspec": {
      "display_name": "Python 3",
      "language": "python",
      "name": "python3"
    },
    "language_info": {
      "codemirror_mode": {
        "name": "ipython",
        "version": 3
      },
      "file_extension": ".py",
      "mimetype": "text/x-python",
      "name": "python",
      "nbconvert_exporter": "python",
      "pygments_lexer": "ipython3",
      "version": "3.7.4"
    },
    "colab": {
      "name": "Machine Learning - Overfitting and Regularization.ipynb",
      "provenance": [],
      "collapsed_sections": []
    }
  },
  "cells": [
    {
      "cell_type": "code",
      "metadata": {
        "id": "P98f1GRtFGPL",
        "colab_type": "code",
        "colab": {}
      },
      "source": [
        "import numpy as np\n",
        "import pandas as pd\n",
        "import matplotlib.pyplot as plt\n",
        "from sqlalchemy import create_engine\n",
        "from sklearn.model_selection import train_test_split, cross_val_score\n",
        "from sklearn.metrics import mean_absolute_error\n",
        "from statsmodels.tools.eval_measures import mse, rmse\n",
        "from sklearn.linear_model import LinearRegression, LassoCV, RidgeCV, ElasticNetCV\n",
        "\n",
        "import warnings\n",
        "warnings.filterwarnings('ignore')\n",
        "\n",
        "postgres_user = 'dsbc_student'\n",
        "postgres_pw = '7*.8G9QH21'\n",
        "postgres_host = '142.93.121.174'\n",
        "postgres_port = '5432'\n",
        "postgres_db = 'houseprices'"
      ],
      "execution_count": 0,
      "outputs": []
    },
    {
      "cell_type": "code",
      "metadata": {
        "id": "I7Dfg5lbFGPS",
        "colab_type": "code",
        "colab": {}
      },
      "source": [
        "engine = create_engine('postgresql://{}:{}@{}:{}/{}'.format(\n",
        "    postgres_user, postgres_pw, postgres_host, postgres_port, postgres_db))\n",
        "house_prices_df = pd.read_sql_query('select * from houseprices',con=engine)\n",
        "\n",
        "# no need for an open connection, as we're only doing a single query\n",
        "engine.dispose()"
      ],
      "execution_count": 0,
      "outputs": []
    },
    {
      "cell_type": "code",
      "metadata": {
        "id": "9gBw50dSFGPW",
        "colab_type": "code",
        "colab": {}
      },
      "source": [
        "house_prices_df = pd.concat([house_prices_df,pd.get_dummies(house_prices_df.mszoning, prefix=\"mszoning\", drop_first=True)], axis=1)\n",
        "house_prices_df = pd.concat([house_prices_df,pd.get_dummies(house_prices_df.street, prefix=\"street\", drop_first=True)], axis=1)\n",
        "dummy_column_names = list(pd.get_dummies(house_prices_df.mszoning, prefix=\"mszoning\", drop_first=True).columns)\n",
        "dummy_column_names = dummy_column_names + list(pd.get_dummies(house_prices_df.street, prefix=\"street\", drop_first=True).columns)"
      ],
      "execution_count": 0,
      "outputs": []
    },
    {
      "cell_type": "code",
      "metadata": {
        "id": "gOrUjWjzFGPa",
        "colab_type": "code",
        "colab": {}
      },
      "source": [
        "house_prices_df['totalsf'] = house_prices_df['totalbsmtsf'] + house_prices_df['firstflrsf'] + house_prices_df['secondflrsf']\n",
        "\n",
        "house_prices_df['int_over_sf'] = house_prices_df['totalsf'] * house_prices_df['overallqual']\n",
        "\n",
        "# Y is the target variable\n",
        "Y = np.log1p(house_prices_df['saleprice'])\n",
        "# X is the feature set\n",
        "X = house_prices_df[['overallqual', 'grlivarea', 'garagecars', 'garagearea', 'totalsf', 'int_over_sf'] + dummy_column_names]\n",
        "\n",
        "X_train, X_test, y_train, y_test = train_test_split(X, Y, test_size = 0.2, random_state = 465)\n",
        "\n",
        "## 10** (p-values from -10 to 40)\n",
        "alphas = [np.power(10.0,p) for p in np.arange(-10,40,1)]"
      ],
      "execution_count": 0,
      "outputs": []
    },
    {
      "cell_type": "code",
      "metadata": {
        "id": "1KiotA1LFGPd",
        "colab_type": "code",
        "outputId": "103688b2-6b9b-4e87-9f11-b331dd88b970",
        "colab": {}
      },
      "source": [
        "lrm = LinearRegression()\n",
        "\n",
        "lrm.fit(X_train, y_train)\n",
        "\n",
        "# We are making predictions here\n",
        "y_preds_train = lrm.predict(X_train)\n",
        "y_preds_test = lrm.predict(X_test)\n",
        "\n",
        "print(\"R-squared of the model in training set is: {}\".format(lrm.score(X_train, y_train)))\n",
        "print(\"-----Test set statistics-----\")\n",
        "print(\"R-squared of the model in test set is: {}\".format(lrm.score(X_test, y_test)))\n",
        "print(\"Mean absolute error of the prediction is: {}\".format(mean_absolute_error(y_test, y_preds_test)))\n",
        "print(\"Mean squared error of the prediction is: {}\".format(mse(y_test, y_preds_test)))\n",
        "print(\"Root mean squared error of the prediction is: {}\".format(rmse(y_test, y_preds_test)))\n",
        "print(\"Mean absolute percentage error of the prediction is: {}\".format(np.mean(np.abs((y_test - y_preds_test) / y_test)) * 100))"
      ],
      "execution_count": 0,
      "outputs": [
        {
          "output_type": "stream",
          "text": [
            "R-squared of the model in training set is: 0.8321322553132751\n",
            "-----Test set statistics-----\n",
            "R-squared of the model in test set is: 0.8249302330916437\n",
            "Mean absolute error of the prediction is: 0.12570372872861554\n",
            "Mean squared error of the prediction is: 0.029192121871356887\n",
            "Root mean squared error of the prediction is: 0.17085702172096084\n",
            "Mean absolute percentage error of the prediction is: 1.050357766782362\n"
          ],
          "name": "stdout"
        }
      ]
    },
    {
      "cell_type": "code",
      "metadata": {
        "id": "ylX0il_TFGPh",
        "colab_type": "code",
        "outputId": "c43936a7-6770-4ee6-fa13-3d34bb5fc340",
        "colab": {}
      },
      "source": [
        "lasso_cv = LassoCV(alphas=alphas, cv=5)\n",
        "\n",
        "lasso_cv.fit(X_train, y_train)\n",
        "\n",
        "# We are making predictions here\n",
        "y_preds_train = lasso_cv.predict(X_train)\n",
        "y_preds_test = lasso_cv.predict(X_test)\n",
        "\n",
        "print(\"Best alpha value is: {}\".format(lasso_cv.alpha_))\n",
        "print(\"R-squared of the model in training set is: {}\".format(lasso_cv.score(X_train, y_train)))\n",
        "print(\"-----Test set statistics-----\")\n",
        "print(\"R-squared of the model in test set is: {}\".format(lasso_cv.score(X_test, y_test)))\n",
        "print(\"Mean absolute error of the prediction is: {}\".format(mean_absolute_error(y_test, y_preds_test)))\n",
        "print(\"Mean squared error of the prediction is: {}\".format(mse(y_test, y_preds_test)))\n",
        "print(\"Root mean squared error of the prediction is: {}\".format(rmse(y_test, y_preds_test)))\n",
        "print(\"Mean absolute percentage error of the prediction is: {}\".format(np.mean(np.abs((y_test - y_preds_test) / y_test)) * 100))"
      ],
      "execution_count": 0,
      "outputs": [
        {
          "output_type": "stream",
          "text": [
            "Best alpha value is: 0.0001\n",
            "R-squared of the model in training set is: 0.8319394287042419\n",
            "-----Test set statistics-----\n",
            "R-squared of the model in test set is: 0.8226434437869413\n",
            "Mean absolute error of the prediction is: 0.12624310826908405\n",
            "Mean squared error of the prediction is: 0.02957343403767703\n",
            "Root mean squared error of the prediction is: 0.17196928225028163\n",
            "Mean absolute percentage error of the prediction is: 1.0552354946577749\n"
          ],
          "name": "stdout"
        }
      ]
    },
    {
      "cell_type": "code",
      "metadata": {
        "id": "41zWhGBJFGPl",
        "colab_type": "code",
        "outputId": "4832d879-753f-4d19-d38a-49dbe045c738",
        "colab": {}
      },
      "source": [
        "ridge_cv = RidgeCV(alphas=alphas, cv=5)\n",
        "\n",
        "ridge_cv.fit(X_train, y_train)\n",
        "\n",
        "# We are making predictions here\n",
        "y_preds_train = ridge_cv.predict(X_train)\n",
        "y_preds_test = ridge_cv.predict(X_test)\n",
        "\n",
        "print(\"Best alpha value is: {}\".format(ridge_cv.alpha_))\n",
        "print(\"R-squared of the model in training set is: {}\".format(ridge_cv.score(X_train, y_train)))\n",
        "print(\"-----Test set statistics-----\")\n",
        "print(\"R-squared of the model in test set is: {}\".format(ridge_cv.score(X_test, y_test)))\n",
        "print(\"Mean absolute error of the prediction is: {}\".format(mean_absolute_error(y_test, y_preds_test)))\n",
        "print(\"Mean squared error of the prediction is: {}\".format(mse(y_test, y_preds_test)))\n",
        "print(\"Root mean squared error of the prediction is: {}\".format(rmse(y_test, y_preds_test)))\n",
        "print(\"Mean absolute percentage error of the prediction is: {}\".format(np.mean(np.abs((y_test - y_preds_test) / y_test)) * 100))"
      ],
      "execution_count": 0,
      "outputs": [
        {
          "output_type": "stream",
          "text": [
            "Best alpha value is: 1.0\n",
            "R-squared of the model in training set is: 0.8316364867222636\n",
            "-----Test set statistics-----\n",
            "R-squared of the model in test set is: 0.8203050076234273\n",
            "Mean absolute error of the prediction is: 0.1267363733974109\n",
            "Mean squared error of the prediction is: 0.029963358092979078\n",
            "Root mean squared error of the prediction is: 0.1730992723640948\n",
            "Mean absolute percentage error of the prediction is: 1.0596941230310692\n"
          ],
          "name": "stdout"
        }
      ]
    },
    {
      "cell_type": "code",
      "metadata": {
        "id": "Xex0jBssFGPo",
        "colab_type": "code",
        "outputId": "6135114c-5c15-4686-9969-b08700f46bff",
        "colab": {}
      },
      "source": [
        "elasticnet_cv = ElasticNetCV(alphas=alphas, cv=5)\n",
        "\n",
        "elasticnet_cv.fit(X_train, y_train)\n",
        "\n",
        "# We are making predictions here\n",
        "y_preds_train = elasticnet_cv.predict(X_train)\n",
        "y_preds_test = elasticnet_cv.predict(X_test)\n",
        "\n",
        "print(\"Best alpha value is: {}\".format(elasticnet_cv.alpha_))\n",
        "print(\"R-squared of the model in training set is: {}\".format(elasticnet_cv.score(X_train, y_train)))\n",
        "print(\"-----Test set statistics-----\")\n",
        "print(\"R-squared of the model in test set is: {}\".format(elasticnet_cv.score(X_test, y_test)))\n",
        "print(\"Mean absolute error of the prediction is: {}\".format(mean_absolute_error(y_test, y_preds_test)))\n",
        "print(\"Mean squared error of the prediction is: {}\".format(mse(y_test, y_preds_test)))\n",
        "print(\"Root mean squared error of the prediction is: {}\".format(rmse(y_test, y_preds_test)))\n",
        "print(\"Mean absolute percentage error of the prediction is: {}\".format(np.mean(np.abs((y_test - y_preds_test) / y_test)) * 100))"
      ],
      "execution_count": 0,
      "outputs": [
        {
          "output_type": "stream",
          "text": [
            "Best alpha value is: 0.001\n",
            "R-squared of the model in training set is: 0.8299654806803801\n",
            "-----Test set statistics-----\n",
            "R-squared of the model in test set is: 0.8149185869526185\n",
            "Mean absolute error of the prediction is: 0.1277072608701136\n",
            "Mean squared error of the prediction is: 0.030861520302533817\n",
            "Root mean squared error of the prediction is: 0.17567447254092958\n",
            "Mean absolute percentage error of the prediction is: 1.068544489730312\n"
          ],
          "name": "stdout"
        }
      ]
    },
    {
      "cell_type": "code",
      "metadata": {
        "id": "u5dNo56eFGPr",
        "colab_type": "code",
        "outputId": "5be9afdb-0bf1-4e1a-a629-bcc586d88a2f",
        "colab": {}
      },
      "source": [
        "X_train, X_test, y_train, y_test = train_test_split(X, Y, random_state=40)\n",
        "clf = LinearRegression()\n",
        "cv_scores = cross_val_score(clf, X_train, y_train, cv = 5)\n",
        "\n",
        "print('Accuracy scores for the 5 folds: ', cv_scores)\n",
        "print('Mean cross validatiion score: {:.3f}'.format(np.mean(cv_scores)))"
      ],
      "execution_count": 0,
      "outputs": [
        {
          "output_type": "stream",
          "text": [
            "Accuracy scores for the 5 folds:  [0.83566031 0.88385303 0.53758917 0.86212352 0.7890162 ]\n",
            "Mean cross validatiion score: 0.782\n"
          ],
          "name": "stdout"
        }
      ]
    },
    {
      "cell_type": "code",
      "metadata": {
        "id": "L5u0A33RFGPu",
        "colab_type": "code",
        "outputId": "f322c2aa-c9f3-4386-fd36-514770d683f0",
        "colab": {}
      },
      "source": [
        "X_train, X_test, y_train, y_test = train_test_split(X, Y, random_state=40)\n",
        "clf = LassoCV(alphas=alphas, cv=5)\n",
        "cv_scores = cross_val_score(clf, X_train, y_train, cv = 5)\n",
        "\n",
        "print('Accuracy scores for the 5 folds: ', cv_scores)\n",
        "print('Mean cross validatiion score: {:.3f}'.format(np.mean(cv_scores)))"
      ],
      "execution_count": 0,
      "outputs": [
        {
          "output_type": "stream",
          "text": [
            "Accuracy scores for the 5 folds:  [0.83536192 0.88494787 0.53836998 0.86212353 0.78889435]\n",
            "Mean cross validatiion score: 0.782\n"
          ],
          "name": "stdout"
        }
      ]
    },
    {
      "cell_type": "code",
      "metadata": {
        "id": "GEIzjjZ7FGPw",
        "colab_type": "code",
        "outputId": "e242be2a-44d9-49b6-b3b6-2f4afad8e63d",
        "colab": {}
      },
      "source": [
        "X_train, X_test, y_train, y_test = train_test_split(X, Y, random_state=40)\n",
        "clf = RidgeCV(alphas=alphas, cv=5)\n",
        "cv_scores = cross_val_score(clf, X_train, y_train, cv = 5)\n",
        "\n",
        "print('Accuracy scores for the 5 folds: ', cv_scores)\n",
        "print('Mean cross validatiion score: {:.3f}'.format(np.mean(cv_scores)))"
      ],
      "execution_count": 0,
      "outputs": [
        {
          "output_type": "stream",
          "text": [
            "Accuracy scores for the 5 folds:  [0.83388128 0.8838755  0.53855551 0.86220847 0.78823906]\n",
            "Mean cross validatiion score: 0.781\n"
          ],
          "name": "stdout"
        }
      ]
    },
    {
      "cell_type": "code",
      "metadata": {
        "id": "6Vdtak-sFGPy",
        "colab_type": "code",
        "outputId": "9ed92e58-570c-4b3d-9278-b60344c2303f",
        "colab": {}
      },
      "source": [
        "X_train, X_test, y_train, y_test = train_test_split(X, Y, random_state=40)\n",
        "clf =  ElasticNetCV(alphas=alphas, cv=5)\n",
        "cv_scores = cross_val_score(clf, X_train, y_train, cv = 5)\n",
        "\n",
        "print('Accuracy scores for the 5 folds: ', cv_scores)\n",
        "print('Mean cross validatiion score: {:.3f}'.format(np.mean(cv_scores)))"
      ],
      "execution_count": 0,
      "outputs": [
        {
          "output_type": "stream",
          "text": [
            "Accuracy scores for the 5 folds:  [0.83537253 0.88476478 0.53842237 0.86213555 0.78891962]\n",
            "Mean cross validatiion score: 0.782\n"
          ],
          "name": "stdout"
        }
      ]
    },
    {
      "cell_type": "code",
      "metadata": {
        "id": "KeabYIaxFGP0",
        "colab_type": "code",
        "colab": {}
      },
      "source": [
        ""
      ],
      "execution_count": 0,
      "outputs": []
    }
  ]
}