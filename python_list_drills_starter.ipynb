{
 "cells": [
  {
   "cell_type": "markdown",
   "metadata": {},
   "source": [
    "## 1: `longest_word_length`\n",
    "\n",
    "Create a function called `longest_word` that takes one argument, a list of words, and returns the length of the longest word in the list.\n",
    "\n",
    "For example, `longest_word(['simple', 'is', 'better', 'than', 'complex'])` should return 7 because the longest word there is complex, at 7 characters.\n",
    "\n",
    "Your function should *not* modify the input list."
   ]
  },
  {
   "cell_type": "code",
   "execution_count": 119,
   "metadata": {},
   "outputs": [
    {
     "data": {
      "text/plain": [
       "7"
      ]
     },
     "execution_count": 119,
     "metadata": {},
     "output_type": "execute_result"
    }
   ],
   "source": [
    "def longest_word (word_list):\n",
    "    return (len(max(word_list, key=len)))\n",
    "longest_word(['simple', 'is', 'better', 'than', 'complex'])"
   ]
  },
  {
   "cell_type": "markdown",
   "metadata": {},
   "source": [
    "## 2: `calculate_grade`\n",
    "\n",
    "You're a statistics professor and the deadline for submitting your students' grades is tonight at midnight. Each student's grade is determined by their mean score across all of the tests they took this semester.\n",
    "\n",
    "You've decided to automate grade calculation by writing a function `calculate_grade` that takes a list of test scores as an argument and returns a one character string representing the student's grade calculated as follows:\n",
    "\n",
    "```\n",
    "90% <= mean score <= 100%: \"A\",\n",
    "80% <= mean score < 90%: \"B\",\n",
    "70% <= mean score < 80%: \"C\",\n",
    "60% <= mean score < 70%: \"D\",\n",
    "mean score < 60%: \"F\"\n",
    "```\n",
    "\n",
    "\n",
    "For example, `calculate_grade([92, 94, 99])` would return \"A\" since the mean score is 95, and `calculate_grade([50, 60, 70, 80, 90])` would return \"C\" since the mean score is 70.\n",
    "\n",
    "Your function should handle an input list of any length greater than zero."
   ]
  },
  {
   "cell_type": "code",
   "execution_count": 71,
   "metadata": {},
   "outputs": [
    {
     "data": {
      "text/plain": [
       "'B'"
      ]
     },
     "execution_count": 71,
     "metadata": {},
     "output_type": "execute_result"
    }
   ],
   "source": [
    "def calculate_grade(scores):\n",
    "    mean_score = sum(scores)/3\n",
    "    if mean_score >= 90 and mean_score <=100:\n",
    "        return \"A\"\n",
    "    elif mean_score >=80 and mean_score <=90:\n",
    "        return \"B\"\n",
    "    elif mean_score >=70 and mean_score <=80:\n",
    "        return \"C\"\n",
    "    elif mean_score >=60 and mean_score <=70:\n",
    "        return \"D\"\n",
    "    else:\n",
    "        return \"F\"\n",
    "calculate_grade([85, 85, 85])"
   ]
  },
  {
   "cell_type": "markdown",
   "metadata": {},
   "source": [
    "## 3: `process_data`\n",
    "\n",
    "You have a two-dimensional list in the following format:\n",
    "\n",
    "```python\n",
    "data = [[2, 5], [3, 4], [8, 7]]\n",
    "```\n",
    "\n",
    "Each sub-list contains two items, and each item in the sub-lists is an integer.\n",
    "\n",
    "Write a function `process_data` that processes each sub-list like so:\n",
    "\n",
    "```\n",
    "[2, 5] --> 2 - 5 --> -3\n",
    "[3, 4] --> 3 - 4 --> -1\n",
    "[8, 7] --> 8 - 7 --> 1\n",
    "```\n",
    "\n",
    "and then returns the product of all the processed sub-lists: -3 * -1 * 1 --> 3.\n",
    "d\n",
    "For input, you can trust that neither the main list nor the sublists will be empty."
   ]
  },
  {
   "cell_type": "code",
   "execution_count": 139,
   "metadata": {},
   "outputs": [
    {
     "name": "stdout",
     "output_type": "stream",
     "text": [
      "-3\n",
      "-1\n",
      "1\n"
     ]
    }
   ],
   "source": [
    "def process_data(sublist_data):\n",
    "    for sublist in sublist_data:\n",
    "        print (sublist[0]-sublist[1])\n",
    "    \n",
    "process_data ([[2, 5], [3, 4], [8, 7]])\n",
    "\n"
   ]
  },
  {
   "cell_type": "code",
   "execution_count": null,
   "metadata": {},
   "outputs": [],
   "source": []
  }
 ],
 "metadata": {
  "kernelspec": {
   "display_name": "Python 3",
   "language": "python",
   "name": "python3"
  },
  "language_info": {
   "codemirror_mode": {
    "name": "ipython",
    "version": 3
   },
   "file_extension": ".py",
   "mimetype": "text/x-python",
   "name": "python",
   "nbconvert_exporter": "python",
   "pygments_lexer": "ipython3",
   "version": "3.7.3"
  }
 },
 "nbformat": 4,
 "nbformat_minor": 2
}
