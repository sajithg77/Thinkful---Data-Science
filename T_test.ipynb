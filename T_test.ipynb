{
  "nbformat": 4,
  "nbformat_minor": 0,
  "metadata": {
    "kernelspec": {
      "display_name": "Python 3",
      "language": "python",
      "name": "python3"
    },
    "language_info": {
      "codemirror_mode": {
        "name": "ipython",
        "version": 3
      },
      "file_extension": ".py",
      "mimetype": "text/x-python",
      "name": "python",
      "nbconvert_exporter": "python",
      "pygments_lexer": "ipython3",
      "version": "3.7.3"
    },
    "colab": {
      "name": "T-test.ipynb",
      "provenance": []
    }
  },
  "cells": [
    {
      "cell_type": "code",
      "metadata": {
        "id": "PPiiR5Dv9nLP",
        "colab_type": "code",
        "colab": {}
      },
      "source": [
        "import math\n",
        "import pandas as pd\n",
        "import numpy as np\n",
        "from scipy import stats\n",
        "import matplotlib.pyplot as plt"
      ],
      "execution_count": 0,
      "outputs": []
    },
    {
      "cell_type": "code",
      "metadata": {
        "id": "2HxX-smK9nLv",
        "colab_type": "code",
        "colab": {},
        "outputId": "b49a2340-0818-4eb9-ab9a-244139e027ec"
      },
      "source": [
        "houseprice = pd.read_csv(\"homeprices.applied.econ.csv\")\n",
        "houseprice.info()\n",
        "houseprice.head()\n",
        "houseprice.columns"
      ],
      "execution_count": 0,
      "outputs": [
        {
          "output_type": "stream",
          "text": [
            "<class 'pandas.core.frame.DataFrame'>\n",
            "RangeIndex: 546 entries, 0 to 545\n",
            "Data columns (total 12 columns):\n",
            "price       546 non-null float64\n",
            "lotsize     546 non-null int64\n",
            "bedrooms    546 non-null int64\n",
            "bathrms     546 non-null int64\n",
            "stories     546 non-null int64\n",
            "driveway    546 non-null object\n",
            "recroom     546 non-null object\n",
            "fullbase    546 non-null object\n",
            "gashw       546 non-null object\n",
            "airco       546 non-null object\n",
            "garagepl    546 non-null int64\n",
            "prefarea    546 non-null object\n",
            "dtypes: float64(1), int64(5), object(6)\n",
            "memory usage: 51.3+ KB\n"
          ],
          "name": "stdout"
        },
        {
          "output_type": "execute_result",
          "data": {
            "text/plain": [
              "Index(['price', 'lotsize', 'bedrooms', 'bathrms', 'stories', 'driveway',\n",
              "       'recroom', 'fullbase', 'gashw', 'airco', 'garagepl', 'prefarea'],\n",
              "      dtype='object')"
            ]
          },
          "metadata": {
            "tags": []
          },
          "execution_count": 8
        }
      ]
    },
    {
      "cell_type": "code",
      "metadata": {
        "id": "1OcidV_K9nMF",
        "colab_type": "code",
        "colab": {}
      },
      "source": [
        "yes_AC = houseprice[(houseprice['airco'] == 'yes')]\n",
        "no_AC = houseprice[(houseprice['airco'] == 'no')]"
      ],
      "execution_count": 0,
      "outputs": []
    },
    {
      "cell_type": "code",
      "metadata": {
        "id": "Xu2-9oNN9nMW",
        "colab_type": "code",
        "colab": {},
        "outputId": "d7427044-6ac7-4d94-c262-bca3bcf3ed86"
      },
      "source": [
        "yes_AC.info()\n",
        "no_AC.info()"
      ],
      "execution_count": 0,
      "outputs": [
        {
          "output_type": "stream",
          "text": [
            "<class 'pandas.core.frame.DataFrame'>\n",
            "Int64Index: 173 entries, 373 to 545\n",
            "Data columns (total 12 columns):\n",
            "price       173 non-null float64\n",
            "lotsize     173 non-null int64\n",
            "bedrooms    173 non-null int64\n",
            "bathrms     173 non-null int64\n",
            "stories     173 non-null int64\n",
            "driveway    173 non-null object\n",
            "recroom     173 non-null object\n",
            "fullbase    173 non-null object\n",
            "gashw       173 non-null object\n",
            "airco       173 non-null object\n",
            "garagepl    173 non-null int64\n",
            "prefarea    173 non-null object\n",
            "dtypes: float64(1), int64(5), object(6)\n",
            "memory usage: 17.6+ KB\n",
            "<class 'pandas.core.frame.DataFrame'>\n",
            "Int64Index: 373 entries, 0 to 372\n",
            "Data columns (total 12 columns):\n",
            "price       373 non-null float64\n",
            "lotsize     373 non-null int64\n",
            "bedrooms    373 non-null int64\n",
            "bathrms     373 non-null int64\n",
            "stories     373 non-null int64\n",
            "driveway    373 non-null object\n",
            "recroom     373 non-null object\n",
            "fullbase    373 non-null object\n",
            "gashw       373 non-null object\n",
            "airco       373 non-null object\n",
            "garagepl    373 non-null int64\n",
            "prefarea    373 non-null object\n",
            "dtypes: float64(1), int64(5), object(6)\n",
            "memory usage: 37.9+ KB\n"
          ],
          "name": "stdout"
        }
      ]
    },
    {
      "cell_type": "code",
      "metadata": {
        "id": "79sSwdEX9nMm",
        "colab_type": "code",
        "colab": {},
        "outputId": "b0597481-ea26-41f9-ffda-9f39896be9dc"
      },
      "source": [
        "plt.hist(yes_AC['price'], alpha = .5)\n",
        "plt.hist(no_AC['price'], alpha = .5)\n",
        "plt.show()"
      ],
      "execution_count": 0,
      "outputs": [
        {
          "output_type": "display_data",
          "data": {
            "image/png": "[encoded data removed]",
            "text/plain": [
              "<Figure size 432x288 with 1 Axes>"
            ]
          },
          "metadata": {
            "tags": [],
            "needs_background": "light"
          }
        }
      ]
    },
    {
      "cell_type": "code",
      "metadata": {
        "id": "NzAXrjVY9nM1",
        "colab_type": "code",
        "colab": {},
        "outputId": "1d286680-9077-41ba-8f0f-32ceb5974438"
      },
      "source": [
        "print(stats.describe(yes_AC['price']))\n",
        "print(stats.describe(no_AC['price']))"
      ],
      "execution_count": 0,
      "outputs": [
        {
          "output_type": "stream",
          "text": [
            "DescribeResult(nobs=173, minmax=(31900.0, 190000.0), mean=85880.58959537573, variance=810167352.2317516, skewness=0.8558523643779228, kurtosis=0.9609338749117713)\n",
            "DescribeResult(nobs=373, minmax=(25000.0, 175000.0), mean=59884.85254691689, variance=455341800.98626363, skewness=1.4196100209360347, kurtosis=3.448225770991252)\n"
          ],
          "name": "stdout"
        }
      ]
    },
    {
      "cell_type": "code",
      "metadata": {
        "id": "m-BGShm39nNF",
        "colab_type": "code",
        "colab": {},
        "outputId": "2f237891-52ad-4ff3-fbfa-ed5880f8397d"
      },
      "source": [
        "##kurtosis is high in the no_AC. We will not move on further."
      ],
      "execution_count": 0,
      "outputs": [
        {
          "output_type": "execute_result",
          "data": {
            "text/plain": [
              "Ttest_indResult(statistic=11.862852780650169, pvalue=4.972721571759431e-29)"
            ]
          },
          "metadata": {
            "tags": []
          },
          "execution_count": 20
        }
      ]
    },
    {
      "cell_type": "code",
      "metadata": {
        "id": "fNKVZGsU9nNT",
        "colab_type": "code",
        "colab": {},
        "outputId": "9e29f8c6-5c05-4419-afae-607071f7431b"
      },
      "source": [
        "# Split up our dataset\n",
        "fullbase_yes = houseprice[houseprice['fullbase'] == 'yes']\n",
        "fullbase_yes.info()\n",
        "\n",
        "fullbase_no = houseprice[houseprice['fullbase'] == 'no']\n",
        "fullbase_no.info()"
      ],
      "execution_count": 0,
      "outputs": [
        {
          "output_type": "stream",
          "text": [
            "<class 'pandas.core.frame.DataFrame'>\n",
            "Int64Index: 191 entries, 0 to 438\n",
            "Data columns (total 12 columns):\n",
            "price       191 non-null float64\n",
            "lotsize     191 non-null int64\n",
            "bedrooms    191 non-null int64\n",
            "bathrms     191 non-null int64\n",
            "stories     191 non-null int64\n",
            "driveway    191 non-null object\n",
            "recroom     191 non-null object\n",
            "fullbase    191 non-null object\n",
            "gashw       191 non-null object\n",
            "airco       191 non-null object\n",
            "garagepl    191 non-null int64\n",
            "prefarea    191 non-null object\n",
            "dtypes: float64(1), int64(5), object(6)\n",
            "memory usage: 19.4+ KB\n",
            "<class 'pandas.core.frame.DataFrame'>\n",
            "Int64Index: 355 entries, 125 to 545\n",
            "Data columns (total 12 columns):\n",
            "price       355 non-null float64\n",
            "lotsize     355 non-null int64\n",
            "bedrooms    355 non-null int64\n",
            "bathrms     355 non-null int64\n",
            "stories     355 non-null int64\n",
            "driveway    355 non-null object\n",
            "recroom     355 non-null object\n",
            "fullbase    355 non-null object\n",
            "gashw       355 non-null object\n",
            "airco       355 non-null object\n",
            "garagepl    355 non-null int64\n",
            "prefarea    355 non-null object\n",
            "dtypes: float64(1), int64(5), object(6)\n",
            "memory usage: 36.1+ KB\n"
          ],
          "name": "stdout"
        }
      ]
    },
    {
      "cell_type": "code",
      "metadata": {
        "id": "YKVb8S7u9nNf",
        "colab_type": "code",
        "colab": {},
        "outputId": "a129e9c2-0123-48c6-cf9b-d80dbb5902a6"
      },
      "source": [
        "plt.hist(fullbase_yes['price'], alpha = .5)\n",
        "plt.hist(fullbase_no['price'], alpha = .5)\n",
        "plt.show()\n",
        "\n",
        "print(stats.describe(fullbase_yes['price']))\n",
        "print(stats.describe(fullbase_no['price']))"
      ],
      "execution_count": 0,
      "outputs": [
        {
          "output_type": "display_data",
          "data": {
            "image/png": "[encoded data removed]",
            "text/plain": [
              "<Figure size 432x288 with 1 Axes>"
            ]
          },
          "metadata": {
            "tags": [],
            "needs_background": "light"
          }
        },
        {
          "output_type": "stream",
          "text": [
            "DescribeResult(nobs=191, minmax=(26000.0, 175000.0), mean=74894.50261780104, variance=687483535.4092036, skewness=1.299439350765169, kurtosis=2.200944427832982)\n",
            "DescribeResult(nobs=355, minmax=(25000.0, 190000.0), mean=64477.58309859155, variance=690693014.1816344, skewness=1.2539001276811907, kurtosis=1.9898502593432044)\n"
          ],
          "name": "stdout"
        }
      ]
    },
    {
      "cell_type": "code",
      "metadata": {
        "id": "VkIDEzgf9nNu",
        "colab_type": "code",
        "colab": {},
        "outputId": "6eb564e4-4b24-4cd9-857e-bc241b03bb16"
      },
      "source": [
        "stats.ttest_ind(fullbase_yes['price'], fullbase_no['price'])"
      ],
      "execution_count": 0,
      "outputs": [
        {
          "output_type": "execute_result",
          "data": {
            "text/plain": [
              "Ttest_indResult(statistic=4.420628512286621, pvalue=1.1885626562866786e-05)"
            ]
          },
          "metadata": {
            "tags": []
          },
          "execution_count": 29
        }
      ]
    },
    {
      "cell_type": "code",
      "metadata": {
        "id": "jBzJsEUn9nN7",
        "colab_type": "code",
        "colab": {},
        "outputId": "e0cda46e-92eb-47be-c88e-2c317949617e"
      },
      "source": [
        "def get_95_ci(array_1, array_2):\n",
        "    sample_1_n = array_1.shape[0]\n",
        "    sample_2_n = array_2.shape[0]\n",
        "    sample_1_mean = array_1.mean()\n",
        "    sample_2_mean = array_2.mean()\n",
        "    sample_1_var = array_1.var()\n",
        "    sample_2_var = array_2.var()\n",
        "    mean_difference = sample_2_mean - sample_1_mean\n",
        "    std_err_difference = math.sqrt((sample_1_var/sample_1_n)+(sample_2_var/sample_2_n))\n",
        "    margin_of_error = 1.96 * std_err_difference\n",
        "    ci_lower = mean_difference - margin_of_error\n",
        "    ci_upper = mean_difference + margin_of_error\n",
        "    return(\"The difference in means at the 95% confidence interval (two-tail) is between \"+str(ci_lower)+\" and \"+str(ci_upper)+\".\")\n",
        "\n",
        "get_95_ci(fullbase_yes['price'], fullbase_no['price'])"
      ],
      "execution_count": 0,
      "outputs": [
        {
          "output_type": "execute_result",
          "data": {
            "text/plain": [
              "'The difference in means at the 95% confidence interval (two-tail) is between -15032.294775656886 and -5801.544262762097.'"
            ]
          },
          "metadata": {
            "tags": []
          },
          "execution_count": 30
        }
      ]
    },
    {
      "cell_type": "code",
      "metadata": {
        "id": "UmzrtEkv9nOK",
        "colab_type": "code",
        "colab": {},
        "outputId": "4f8d8e06-067e-41c9-8548-de63a7a26eac"
      },
      "source": [
        "import seaborn as sns\n",
        "\n",
        "g = sns.pointplot(data=[fullbase_yes['price'], fullbase_no['price']], join=False)\n",
        "                        \n",
        "g.set(xticklabels = ['fullbase_yes', 'fullbase_no'])"
      ],
      "execution_count": 0,
      "outputs": [
        {
          "output_type": "execute_result",
          "data": {
            "text/plain": [
              "[[Text(0, 0, 'fullbase_yes'), Text(0, 0, 'fullbase_no')]]"
            ]
          },
          "metadata": {
            "tags": []
          },
          "execution_count": 31
        },
        {
          "output_type": "display_data",
          "data": {
            "image/png": "[encoded data removed]",
            "text/plain": [
              "<Figure size 432x288 with 1 Axes>"
            ]
          },
          "metadata": {
            "tags": [],
            "needs_background": "light"
          }
        }
      ]
    },
    {
      "cell_type": "code",
      "metadata": {
        "id": "Hhfnm67g9nOf",
        "colab_type": "code",
        "colab": {}
      },
      "source": [
        ""
      ],
      "execution_count": 0,
      "outputs": []
    }
  ]
}