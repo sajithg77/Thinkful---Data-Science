{
  "nbformat": 4,
  "nbformat_minor": 0,
  "metadata": {
    "kernelspec": {
      "display_name": "Python 3",
      "language": "python",
      "name": "python3"
    },
    "language_info": {
      "codemirror_mode": {
        "name": "ipython",
        "version": 3
      },
      "file_extension": ".py",
      "mimetype": "text/x-python",
      "name": "python",
      "nbconvert_exporter": "python",
      "pygments_lexer": "ipython3",
      "version": "3.7.3"
    },
    "colab": {
      "name": "beyond AB.ipynb",
      "provenance": []
    }
  },
  "cells": [
    {
      "cell_type": "code",
      "metadata": {
        "id": "31A-KWYPNT41",
        "colab_type": "code",
        "colab": {}
      },
      "source": [
        "import pandas as pd\n",
        "import numpy as np\n",
        "import matplotlib.pyplot as plt\n",
        "import scipy.stats as stats\n",
        "%matplotlib inline"
      ],
      "execution_count": 0,
      "outputs": []
    },
    {
      "cell_type": "code",
      "metadata": {
        "id": "b2K_AxLaNT48",
        "colab_type": "code",
        "outputId": "e2f79e6e-856d-4173-d3c4-57be383e56fd",
        "colab": {}
      },
      "source": [
        "data= pd.read_csv('ess_combined_2012_2014.csv')\n",
        "data.head()"
      ],
      "execution_count": 0,
      "outputs": [
        {
          "output_type": "execute_result",
          "data": {
            "text/html": [
              "<div>\n",
              "<style scoped>\n",
              "    .dataframe tbody tr th:only-of-type {\n",
              "        vertical-align: middle;\n",
              "    }\n",
              "\n",
              "    .dataframe tbody tr th {\n",
              "        vertical-align: top;\n",
              "    }\n",
              "\n",
              "    .dataframe thead th {\n",
              "        text-align: right;\n",
              "    }\n",
              "</style>\n",
              "<table border=\"1\" class=\"dataframe\">\n",
              "  <thead>\n",
              "    <tr style=\"text-align: right;\">\n",
              "      <th></th>\n",
              "      <th>cntry</th>\n",
              "      <th>idno</th>\n",
              "      <th>year</th>\n",
              "      <th>tvtot</th>\n",
              "      <th>ppltrst</th>\n",
              "      <th>pplfair</th>\n",
              "      <th>pplhlp</th>\n",
              "      <th>happy</th>\n",
              "      <th>sclmeet</th>\n",
              "      <th>sclact</th>\n",
              "      <th>gndr</th>\n",
              "      <th>agea</th>\n",
              "      <th>partner</th>\n",
              "    </tr>\n",
              "  </thead>\n",
              "  <tbody>\n",
              "    <tr>\n",
              "      <th>0</th>\n",
              "      <td>CH</td>\n",
              "      <td>5</td>\n",
              "      <td>6</td>\n",
              "      <td>3</td>\n",
              "      <td>3</td>\n",
              "      <td>10</td>\n",
              "      <td>5</td>\n",
              "      <td>8</td>\n",
              "      <td>5</td>\n",
              "      <td>4</td>\n",
              "      <td>2</td>\n",
              "      <td>60</td>\n",
              "      <td>1</td>\n",
              "    </tr>\n",
              "    <tr>\n",
              "      <th>1</th>\n",
              "      <td>CH</td>\n",
              "      <td>25</td>\n",
              "      <td>6</td>\n",
              "      <td>6</td>\n",
              "      <td>5</td>\n",
              "      <td>7</td>\n",
              "      <td>5</td>\n",
              "      <td>9</td>\n",
              "      <td>3</td>\n",
              "      <td>2</td>\n",
              "      <td>2</td>\n",
              "      <td>59</td>\n",
              "      <td>1</td>\n",
              "    </tr>\n",
              "    <tr>\n",
              "      <th>2</th>\n",
              "      <td>CH</td>\n",
              "      <td>26</td>\n",
              "      <td>6</td>\n",
              "      <td>1</td>\n",
              "      <td>8</td>\n",
              "      <td>8</td>\n",
              "      <td>8</td>\n",
              "      <td>7</td>\n",
              "      <td>6</td>\n",
              "      <td>3</td>\n",
              "      <td>1</td>\n",
              "      <td>24</td>\n",
              "      <td>2</td>\n",
              "    </tr>\n",
              "    <tr>\n",
              "      <th>3</th>\n",
              "      <td>CH</td>\n",
              "      <td>28</td>\n",
              "      <td>6</td>\n",
              "      <td>4</td>\n",
              "      <td>6</td>\n",
              "      <td>6</td>\n",
              "      <td>7</td>\n",
              "      <td>10</td>\n",
              "      <td>6</td>\n",
              "      <td>2</td>\n",
              "      <td>2</td>\n",
              "      <td>64</td>\n",
              "      <td>1</td>\n",
              "    </tr>\n",
              "    <tr>\n",
              "      <th>4</th>\n",
              "      <td>CH</td>\n",
              "      <td>29</td>\n",
              "      <td>6</td>\n",
              "      <td>5</td>\n",
              "      <td>6</td>\n",
              "      <td>7</td>\n",
              "      <td>5</td>\n",
              "      <td>8</td>\n",
              "      <td>7</td>\n",
              "      <td>2</td>\n",
              "      <td>2</td>\n",
              "      <td>55</td>\n",
              "      <td>1</td>\n",
              "    </tr>\n",
              "  </tbody>\n",
              "</table>\n",
              "</div>"
            ],
            "text/plain": [
              "  cntry  idno  year  tvtot  ppltrst  pplfair  pplhlp  happy  sclmeet  sclact  \\\n",
              "0    CH     5     6      3        3       10       5      8        5       4   \n",
              "1    CH    25     6      6        5        7       5      9        3       2   \n",
              "2    CH    26     6      1        8        8       8      7        6       3   \n",
              "3    CH    28     6      4        6        6       7     10        6       2   \n",
              "4    CH    29     6      5        6        7       5      8        7       2   \n",
              "\n",
              "   gndr  agea  partner  \n",
              "0     2    60        1  \n",
              "1     2    59        1  \n",
              "2     1    24        2  \n",
              "3     2    64        1  \n",
              "4     2    55        1  "
            ]
          },
          "metadata": {
            "tags": []
          },
          "execution_count": 4
        }
      ]
    },
    {
      "cell_type": "code",
      "metadata": {
        "id": "OtpLkwbPNT5A",
        "colab_type": "code",
        "outputId": "d8b1d09d-ee1c-49ca-e9a9-6f553b2ca17e",
        "colab": {}
      },
      "source": [
        "_2012 = data[data['year']==6]\n",
        "_2014 = data[data['year']==7]\n",
        "\n",
        "plt.hist(_2012['ppltrst'], alpha = .5)\n",
        "plt.hist(_2014['ppltrst'], alpha = .5)\n",
        "plt.show()\n",
        "\n",
        "print(stats.describe(_2012['ppltrst']))\n",
        "print(stats.describe(_2014['ppltrst']))\n",
        "\n",
        "\n"
      ],
      "execution_count": 0,
      "outputs": [
        {
          "output_type": "display_data",
          "data": {
            "image/png": "[encoded data removed]",
            "text/plain": [
              "<Figure size 432x288 with 1 Axes>"
            ]
          },
          "metadata": {
            "tags": [],
            "needs_background": "light"
          }
        },
        {
          "output_type": "stream",
          "text": [
            "DescribeResult(nobs=4071, minmax=(0, 10), mean=5.578481945467944, variance=4.893040545067073, skewness=-0.5431086926347095, kurtosis=-0.1210956960964813)\n",
            "DescribeResult(nobs=4076, minmax=(0, 10), mean=5.5713935230618254, variance=4.927171652708959, skewness=-0.4601859476512641, kurtosis=-0.25006786100787215)\n"
          ],
          "name": "stdout"
        }
      ]
    },
    {
      "cell_type": "code",
      "metadata": {
        "id": "prcbbyN8NT5E",
        "colab_type": "code",
        "outputId": "8fb3d7cb-0917-4837-ada3-b9ffbc3fad73",
        "colab": {}
      },
      "source": [
        "print(stats.shapiro(_2012['ppltrst']))\n",
        "print(stats.shapiro(_2014['ppltrst']))\n",
        "\n",
        "print(stats.describe(_2012['ppltrst']))\n",
        "print(stats.describe(_2014['ppltrst']))\n",
        "\n",
        "## W is close to 1 and P is more than 0.5 hence normally distributed.\n"
      ],
      "execution_count": 0,
      "outputs": [
        {
          "output_type": "stream",
          "text": [
            "(0.9520939588546753, 1.4426241793085802e-34)\n",
            "(0.9580563902854919, 9.222525335052542e-33)\n",
            "DescribeResult(nobs=4071, minmax=(0, 10), mean=5.578481945467944, variance=4.893040545067073, skewness=-0.5431086926347095, kurtosis=-0.1210956960964813)\n",
            "DescribeResult(nobs=4076, minmax=(0, 10), mean=5.5713935230618254, variance=4.927171652708959, skewness=-0.4601859476512641, kurtosis=-0.25006786100787215)\n"
          ],
          "name": "stdout"
        }
      ]
    },
    {
      "cell_type": "code",
      "metadata": {
        "id": "qv3xtR1ANT5I",
        "colab_type": "code",
        "outputId": "403a6723-8b5f-4be5-b7f4-1d5027da337c",
        "colab": {}
      },
      "source": [
        "data.boxplot('ppltrst', by='year', figsize=(10, 6))\n",
        "\n",
        "#as you can see there ain't no much differece ;)"
      ],
      "execution_count": 0,
      "outputs": [
        {
          "output_type": "execute_result",
          "data": {
            "text/plain": [
              "<matplotlib.axes._subplots.AxesSubplot at 0xac48b70d68>"
            ]
          },
          "metadata": {
            "tags": []
          },
          "execution_count": 11
        },
        {
          "output_type": "display_data",
          "data": {
            "image/png": "[encoded data removed]",
            "text/plain": [
              "<Figure size 720x432 with 1 Axes>"
            ]
          },
          "metadata": {
            "tags": [],
            "needs_background": "light"
          }
        }
      ]
    },
    {
      "cell_type": "code",
      "metadata": {
        "id": "_jIXNBiONT5M",
        "colab_type": "code",
        "outputId": "a38aeb5a-f769-412a-8e75-4d10a3d61b1e",
        "colab": {}
      },
      "source": [
        "##Q2) did people become happier from year 2012 to 2014 \n",
        "\n",
        "plt.hist(_2012['ppltrst'], alpha = .5)\n",
        "plt.hist(_2014['ppltrst'], alpha = .5)\n",
        "\n",
        "stats.ttest_ind(_2012['ppltrst'], _2014['ppltrst'])\n",
        "\n",
        "## fail to reject as we have a p value greater than 0.05 and static value less than 1.96"
      ],
      "execution_count": 0,
      "outputs": [
        {
          "output_type": "execute_result",
          "data": {
            "text/plain": [
              "Ttest_indResult(statistic=0.1443685081969842, pvalue=0.8852130548889106)"
            ]
          },
          "metadata": {
            "tags": []
          },
          "execution_count": 50
        },
        {
          "output_type": "display_data",
          "data": {
            "image/png": "[encoded data removed]",
            "text/plain": [
              "<Figure size 432x288 with 1 Axes>"
            ]
          },
          "metadata": {
            "tags": [],
            "needs_background": "light"
          }
        }
      ]
    },
    {
      "cell_type": "code",
      "metadata": {
        "id": "rS8TSXCaNT5P",
        "colab_type": "code",
        "outputId": "a967bfda-585f-4fc0-b792-10a7b9e8524e",
        "colab": {}
      },
      "source": [
        "print(stats.shapiro(_2012['happy']))\n",
        "print(stats.shapiro(_2014['happy']))\n",
        "\n",
        "print(stats.describe(_2012['happy']))\n",
        "print(stats.describe(_2014['happy']))"
      ],
      "execution_count": 0,
      "outputs": [
        {
          "output_type": "stream",
          "text": [
            "(0.8943395018577576, 0.0)\n",
            "(0.9060227870941162, 1.2611686178923354e-44)\n",
            "DescribeResult(nobs=4071, minmax=(0, 10), mean=7.731515598133137, variance=3.0819524689826823, skewness=-1.1505518232802756, kurtosis=1.9055890346061979)\n",
            "DescribeResult(nobs=4076, minmax=(0, 10), mean=7.6854759568204125, variance=2.840436853164115, skewness=-1.0296465664009635, kurtosis=1.5218046596567287)\n"
          ],
          "name": "stdout"
        }
      ]
    },
    {
      "cell_type": "code",
      "metadata": {
        "id": "A-CHxxTvNT5T",
        "colab_type": "code",
        "colab": {}
      },
      "source": [
        "# W value is close to 1. However, p value is less that 0.05\n",
        "## less than 0.05 indicates non normality."
      ],
      "execution_count": 0,
      "outputs": []
    },
    {
      "cell_type": "code",
      "metadata": {
        "id": "S3bGXyjsNT5W",
        "colab_type": "code",
        "outputId": "153eaf8d-94d3-4e00-af43-9e5ee9b66755",
        "colab": {}
      },
      "source": [
        "## Lets use kruskal since it is not normally distributed.\n",
        "stats.kruskal(\n",
        "    _2012['happy'],\n",
        "    _2014['happy'])"
      ],
      "execution_count": 0,
      "outputs": [
        {
          "output_type": "execute_result",
          "data": {
            "text/plain": [
              "KruskalResult(statistic=3.725441202182227, pvalue=0.05358946830655459)"
            ]
          },
          "metadata": {
            "tags": []
          },
          "execution_count": 16
        }
      ]
    },
    {
      "cell_type": "code",
      "metadata": {
        "id": "r_chmuHnNT5a",
        "colab_type": "code",
        "outputId": "8e9ea380-5175-42b8-e0f7-008e1b0884f9",
        "colab": {}
      },
      "source": [
        "## 3. Pick three or four of the countries in the sample and compare how often people met socially in 2014. 4\n",
        "## Are there differences, and if so, which countries stand out?\n",
        "\n",
        "data['cntry'].unique()"
      ],
      "execution_count": 0,
      "outputs": [
        {
          "output_type": "execute_result",
          "data": {
            "text/plain": [
              "array(['CH', 'CZ', 'DE', 'ES', 'NO', 'SE'], dtype=object)"
            ]
          },
          "metadata": {
            "tags": []
          },
          "execution_count": 19
        }
      ]
    },
    {
      "cell_type": "code",
      "metadata": {
        "id": "AW1RciQXNT5e",
        "colab_type": "code",
        "outputId": "7d81026a-f2bd-4ae0-ca0f-81270084aa32",
        "colab": {}
      },
      "source": [
        "_3cntry_ = ['CZ', 'DE', 'ES']\n",
        "\n",
        "_2014_country = _2014[_2014['cntry'].isin(_3cntry_)]\n",
        "\n",
        "_2014_country['cntry'].unique()\n",
        "\n",
        "_2014_country['sclmeet'].hist(by = _2014_country['cntry'])"
      ],
      "execution_count": 0,
      "outputs": [
        {
          "output_type": "execute_result",
          "data": {
            "text/plain": [
              "array([[<matplotlib.axes._subplots.AxesSubplot object at 0x000000AC4D9D7240>,\n",
              "        <matplotlib.axes._subplots.AxesSubplot object at 0x000000AC4DA302B0>],\n",
              "       [<matplotlib.axes._subplots.AxesSubplot object at 0x000000AC4DA55828>,\n",
              "        <matplotlib.axes._subplots.AxesSubplot object at 0x000000AC4DA7CD68>]],\n",
              "      dtype=object)"
            ]
          },
          "metadata": {
            "tags": []
          },
          "execution_count": 30
        },
        {
          "output_type": "display_data",
          "data": {
            "image/png": "[encoded data removed]",
            "text/plain": [
              "<Figure size 432x288 with 4 Axes>"
            ]
          },
          "metadata": {
            "tags": [],
            "needs_background": "light"
          }
        }
      ]
    },
    {
      "cell_type": "code",
      "metadata": {
        "id": "DZ_95R8_NT5h",
        "colab_type": "code",
        "outputId": "e9e780e3-0c49-4d28-d321-a96c54d17610",
        "colab": {}
      },
      "source": [
        "## since its all sparsed, we have to eye ball the data. We can use kruskal Wallis test\n",
        "\n",
        "stats.kruskal(\n",
        "    _2014_country.loc[_2014_country['cntry'] == 'CZ',['sclmeet']],\n",
        "    _2014_country.loc[_2014_country['cntry'] == 'DE',['sclmeet']],\n",
        "    _2014_country.loc[_2014_country['cntry'] == 'ES',['sclmeet']])\n"
      ],
      "execution_count": 0,
      "outputs": [
        {
          "output_type": "execute_result",
          "data": {
            "text/plain": [
              "KruskalResult(statistic=120.72958033262947, pvalue=6.0800161031835895e-27)"
            ]
          },
          "metadata": {
            "tags": []
          },
          "execution_count": 31
        }
      ]
    },
    {
      "cell_type": "code",
      "metadata": {
        "id": "xeuJSDLnNT5j",
        "colab_type": "code",
        "outputId": "5aa5675d-fd05-44c4-841b-fb13dcb3c0f4",
        "colab": {}
      },
      "source": [
        "# DE appears to be standing out\n",
        "\n",
        "_2014_country.boxplot('sclmeet', by='cntry', figsize=(10, 6))"
      ],
      "execution_count": 0,
      "outputs": [
        {
          "output_type": "execute_result",
          "data": {
            "text/plain": [
              "<matplotlib.axes._subplots.AxesSubplot at 0xac4faffbe0>"
            ]
          },
          "metadata": {
            "tags": []
          },
          "execution_count": 32
        },
        {
          "output_type": "display_data",
          "data": {
            "image/png": "[encoded data removed]",
            "text/plain": [
              "<Figure size 720x432 with 1 Axes>"
            ]
          },
          "metadata": {
            "tags": [],
            "needs_background": "light"
          }
        }
      ]
    },
    {
      "cell_type": "code",
      "metadata": {
        "id": "RIIgVDNVNT5n",
        "colab_type": "code",
        "outputId": "0285cc23-2626-4aef-9d1b-ef05925d32b6",
        "colab": {}
      },
      "source": [
        "##Pick three or four of the countries in the sample and compare how often people took part in social activities, relative to others their age, in 2014. \n",
        "##Are there differences, and if so, which countries stand out?\n",
        "_2014_country['sclact'].hist(by = _2014_country['cntry'])"
      ],
      "execution_count": 0,
      "outputs": [
        {
          "output_type": "execute_result",
          "data": {
            "text/plain": [
              "array([[<matplotlib.axes._subplots.AxesSubplot object at 0x000000AC4D39F438>,\n",
              "        <matplotlib.axes._subplots.AxesSubplot object at 0x000000AC49D14240>],\n",
              "       [<matplotlib.axes._subplots.AxesSubplot object at 0x000000AC48BC17B8>,\n",
              "        <matplotlib.axes._subplots.AxesSubplot object at 0x000000AC4FB12D30>]],\n",
              "      dtype=object)"
            ]
          },
          "metadata": {
            "tags": []
          },
          "execution_count": 33
        },
        {
          "output_type": "display_data",
          "data": {
            "image/png": "[encoded data removed]",
            "text/plain": [
              "<Figure size 432x288 with 4 Axes>"
            ]
          },
          "metadata": {
            "tags": [],
            "needs_background": "light"
          }
        }
      ]
    },
    {
      "cell_type": "code",
      "metadata": {
        "id": "KZH3fVniNT5q",
        "colab_type": "code",
        "outputId": "c9bdba2d-fd00-4e7e-c05d-09733082b9aa",
        "colab": {}
      },
      "source": [
        "## They look a bit symmetrical and normal so lets try ANNOVA\n",
        "\n",
        "stats.f_oneway(\n",
        "    _2014_country.loc[_2014_country['cntry'] == 'CZ',['sclact']],\n",
        "    _2014_country.loc[_2014_country['cntry'] == 'DE',['sclact']],\n",
        "    _2014_country.loc[_2014_country['cntry'] == 'ES',['sclact']])"
      ],
      "execution_count": 0,
      "outputs": [
        {
          "output_type": "execute_result",
          "data": {
            "text/plain": [
              "F_onewayResult(statistic=array([2.28963493]), pvalue=array([0.10160666]))"
            ]
          },
          "metadata": {
            "tags": []
          },
          "execution_count": 34
        }
      ]
    },
    {
      "cell_type": "code",
      "metadata": {
        "id": "owr-jduANT5t",
        "colab_type": "code",
        "colab": {}
      },
      "source": [
        "## Since P value is greater than 0.0001 we can say that ther isn't any significant difference.\n",
        "## Lets try pairwise statistics"
      ],
      "execution_count": 0,
      "outputs": []
    },
    {
      "cell_type": "code",
      "metadata": {
        "id": "-BFdyxQHNT50",
        "colab_type": "code",
        "outputId": "edce467f-d70d-4929-f741-d22a0905c6a9",
        "colab": {}
      },
      "source": [
        "from statsmodels.stats.multicomp import pairwise_tukeyhsd\n",
        "\n",
        "tukey = pairwise_tukeyhsd(endog = _2014_country['sclact'],      # Data\n",
        "                          groups = _2014_country['cntry'],   # Groups\n",
        "                          alpha=0.05) \n",
        "\n",
        "\n",
        "tukey.summary()"
      ],
      "execution_count": 0,
      "outputs": [
        {
          "output_type": "execute_result",
          "data": {
            "text/html": [
              "<table class=\"simpletable\">\n",
              "<caption>Multiple Comparison of Means - Tukey HSD,FWER=0.05</caption>\n",
              "<tr>\n",
              "  <th>group1</th> <th>group2</th> <th>meandiff</th>  <th>lower</th>   <th>upper</th> <th>reject</th>\n",
              "</tr>\n",
              "<tr>\n",
              "    <td>CZ</td>     <td>DE</td>    <td>-0.0151</td> <td>-0.5946</td> <td>0.5644</td>  <td>False</td>\n",
              "</tr>\n",
              "<tr>\n",
              "    <td>CZ</td>     <td>ES</td>    <td>-0.098</td>  <td>-0.2058</td> <td>0.0099</td>  <td>False</td>\n",
              "</tr>\n",
              "<tr>\n",
              "    <td>DE</td>     <td>ES</td>    <td>-0.0829</td> <td>-0.6594</td> <td>0.4936</td>  <td>False</td>\n",
              "</tr>\n",
              "</table>"
            ],
            "text/plain": [
              "<class 'statsmodels.iolib.table.SimpleTable'>"
            ]
          },
          "metadata": {
            "tags": []
          },
          "execution_count": 37
        }
      ]
    },
    {
      "cell_type": "code",
      "metadata": {
        "id": "f0XGTpz9NT54",
        "colab_type": "code",
        "outputId": "a6ccd284-c2b5-4c7c-d1b7-53b787c0d8ac",
        "colab": {}
      },
      "source": [
        "# https://www.parinc.com/Products/Pkey/360\n",
        "# https://datadryad.org/resource/doi:10.5061/dryad.rr138\n",
        "rfft = pd.read_csv(\"https://tf-assets-prod.s3.amazonaws.com/tf-curric/data-science/rfft.csv\")\n",
        "rfft.head(20)"
      ],
      "execution_count": 0,
      "outputs": [
        {
          "output_type": "execute_result",
          "data": {
            "text/html": [
              "<div>\n",
              "<style scoped>\n",
              "    .dataframe tbody tr th:only-of-type {\n",
              "        vertical-align: middle;\n",
              "    }\n",
              "\n",
              "    .dataframe tbody tr th {\n",
              "        vertical-align: top;\n",
              "    }\n",
              "\n",
              "    .dataframe thead th {\n",
              "        text-align: right;\n",
              "    }\n",
              "</style>\n",
              "<table border=\"1\" class=\"dataframe\">\n",
              "  <thead>\n",
              "    <tr style=\"text-align: right;\">\n",
              "      <th></th>\n",
              "      <th>Casenr</th>\n",
              "      <th>Age</th>\n",
              "      <th>Gender</th>\n",
              "      <th>Education</th>\n",
              "      <th>Measurement</th>\n",
              "      <th>Unique</th>\n",
              "      <th>Perseverative</th>\n",
              "      <th>Interval</th>\n",
              "    </tr>\n",
              "  </thead>\n",
              "  <tbody>\n",
              "    <tr>\n",
              "      <th>0</th>\n",
              "      <td>1</td>\n",
              "      <td>74</td>\n",
              "      <td>Male</td>\n",
              "      <td>Lower secondary school (ISCED 2)</td>\n",
              "      <td>Measurement 1 (2003-2006)</td>\n",
              "      <td>32.0</td>\n",
              "      <td>1.0</td>\n",
              "      <td>Not applicable</td>\n",
              "    </tr>\n",
              "    <tr>\n",
              "      <th>1</th>\n",
              "      <td>1</td>\n",
              "      <td>74</td>\n",
              "      <td>Male</td>\n",
              "      <td>Lower secondary school (ISCED 2)</td>\n",
              "      <td>Measurement 2 (2006-2008)</td>\n",
              "      <td>35.0</td>\n",
              "      <td>0.0</td>\n",
              "      <td>2.842122556</td>\n",
              "    </tr>\n",
              "    <tr>\n",
              "      <th>2</th>\n",
              "      <td>1</td>\n",
              "      <td>74</td>\n",
              "      <td>Male</td>\n",
              "      <td>Lower secondary school (ISCED 2)</td>\n",
              "      <td>Measurement 3 (2008-2012)</td>\n",
              "      <td>50.5</td>\n",
              "      <td>14.5</td>\n",
              "      <td>2.201232033</td>\n",
              "    </tr>\n",
              "    <tr>\n",
              "      <th>3</th>\n",
              "      <td>2</td>\n",
              "      <td>48</td>\n",
              "      <td>Male</td>\n",
              "      <td>Higher secondary school (ISCED 3-4)</td>\n",
              "      <td>Measurement 1 (2003-2006)</td>\n",
              "      <td>26.0</td>\n",
              "      <td>3.0</td>\n",
              "      <td>Not applicable</td>\n",
              "    </tr>\n",
              "    <tr>\n",
              "      <th>4</th>\n",
              "      <td>2</td>\n",
              "      <td>48</td>\n",
              "      <td>Male</td>\n",
              "      <td>Higher secondary school (ISCED 3-4)</td>\n",
              "      <td>Measurement 2 (2006-2008)</td>\n",
              "      <td>47.0</td>\n",
              "      <td>3.0</td>\n",
              "      <td>2.762718362</td>\n",
              "    </tr>\n",
              "    <tr>\n",
              "      <th>5</th>\n",
              "      <td>2</td>\n",
              "      <td>48</td>\n",
              "      <td>Male</td>\n",
              "      <td>Higher secondary school (ISCED 3-4)</td>\n",
              "      <td>Measurement 3 (2008-2012)</td>\n",
              "      <td>71.0</td>\n",
              "      <td>0.5</td>\n",
              "      <td>2.376454483</td>\n",
              "    </tr>\n",
              "    <tr>\n",
              "      <th>6</th>\n",
              "      <td>3</td>\n",
              "      <td>54</td>\n",
              "      <td>Male</td>\n",
              "      <td>Higher secondary school (ISCED 3-4)</td>\n",
              "      <td>Measurement 1 (2003-2006)</td>\n",
              "      <td>91.0</td>\n",
              "      <td>11.0</td>\n",
              "      <td>Not applicable</td>\n",
              "    </tr>\n",
              "    <tr>\n",
              "      <th>7</th>\n",
              "      <td>3</td>\n",
              "      <td>54</td>\n",
              "      <td>Male</td>\n",
              "      <td>Higher secondary school (ISCED 3-4)</td>\n",
              "      <td>Measurement 2 (2006-2008)</td>\n",
              "      <td>83.5</td>\n",
              "      <td>21.0</td>\n",
              "      <td>2.628552653</td>\n",
              "    </tr>\n",
              "    <tr>\n",
              "      <th>8</th>\n",
              "      <td>3</td>\n",
              "      <td>54</td>\n",
              "      <td>Male</td>\n",
              "      <td>Higher secondary school (ISCED 3-4)</td>\n",
              "      <td>Measurement 3 (2008-2012)</td>\n",
              "      <td>77.0</td>\n",
              "      <td>17.0</td>\n",
              "      <td>3.392197125</td>\n",
              "    </tr>\n",
              "    <tr>\n",
              "      <th>9</th>\n",
              "      <td>4</td>\n",
              "      <td>70</td>\n",
              "      <td>Male</td>\n",
              "      <td>Higher secondary school (ISCED 3-4)</td>\n",
              "      <td>Measurement 1 (2003-2006)</td>\n",
              "      <td>59.0</td>\n",
              "      <td>49.0</td>\n",
              "      <td>Not applicable</td>\n",
              "    </tr>\n",
              "    <tr>\n",
              "      <th>10</th>\n",
              "      <td>4</td>\n",
              "      <td>70</td>\n",
              "      <td>Male</td>\n",
              "      <td>Higher secondary school (ISCED 3-4)</td>\n",
              "      <td>Measurement 2 (2006-2008)</td>\n",
              "      <td>54.0</td>\n",
              "      <td>39.0</td>\n",
              "      <td>2.762718362</td>\n",
              "    </tr>\n",
              "    <tr>\n",
              "      <th>11</th>\n",
              "      <td>4</td>\n",
              "      <td>70</td>\n",
              "      <td>Male</td>\n",
              "      <td>Higher secondary school (ISCED 3-4)</td>\n",
              "      <td>Measurement 3 (2008-2012)</td>\n",
              "      <td>64.0</td>\n",
              "      <td>11.0</td>\n",
              "      <td>2.650239562</td>\n",
              "    </tr>\n",
              "    <tr>\n",
              "      <th>12</th>\n",
              "      <td>5</td>\n",
              "      <td>52</td>\n",
              "      <td>Male</td>\n",
              "      <td>University (ISCED 5-6)</td>\n",
              "      <td>Measurement 1 (2003-2006)</td>\n",
              "      <td>60.0</td>\n",
              "      <td>14.0</td>\n",
              "      <td>Not applicable</td>\n",
              "    </tr>\n",
              "    <tr>\n",
              "      <th>13</th>\n",
              "      <td>5</td>\n",
              "      <td>52</td>\n",
              "      <td>Male</td>\n",
              "      <td>University (ISCED 5-6)</td>\n",
              "      <td>Measurement 2 (2006-2008)</td>\n",
              "      <td>68.0</td>\n",
              "      <td>16.0</td>\n",
              "      <td>2.844860632</td>\n",
              "    </tr>\n",
              "    <tr>\n",
              "      <th>14</th>\n",
              "      <td>5</td>\n",
              "      <td>52</td>\n",
              "      <td>Male</td>\n",
              "      <td>University (ISCED 5-6)</td>\n",
              "      <td>Measurement 3 (2008-2012)</td>\n",
              "      <td>21.0</td>\n",
              "      <td>0.0</td>\n",
              "      <td>2.247775496</td>\n",
              "    </tr>\n",
              "    <tr>\n",
              "      <th>15</th>\n",
              "      <td>6</td>\n",
              "      <td>73</td>\n",
              "      <td>Male</td>\n",
              "      <td>University (ISCED 5-6)</td>\n",
              "      <td>Measurement 1 (2003-2006)</td>\n",
              "      <td>63.0</td>\n",
              "      <td>25.0</td>\n",
              "      <td>Not applicable</td>\n",
              "    </tr>\n",
              "    <tr>\n",
              "      <th>16</th>\n",
              "      <td>6</td>\n",
              "      <td>73</td>\n",
              "      <td>Male</td>\n",
              "      <td>University (ISCED 5-6)</td>\n",
              "      <td>Measurement 2 (2006-2008)</td>\n",
              "      <td>68.5</td>\n",
              "      <td>18.0</td>\n",
              "      <td>2.801051421</td>\n",
              "    </tr>\n",
              "    <tr>\n",
              "      <th>17</th>\n",
              "      <td>6</td>\n",
              "      <td>73</td>\n",
              "      <td>Male</td>\n",
              "      <td>University (ISCED 5-6)</td>\n",
              "      <td>Measurement 3 (2008-2012)</td>\n",
              "      <td>60.5</td>\n",
              "      <td>13.5</td>\n",
              "      <td>2.29431896</td>\n",
              "    </tr>\n",
              "    <tr>\n",
              "      <th>18</th>\n",
              "      <td>7</td>\n",
              "      <td>50</td>\n",
              "      <td>Female</td>\n",
              "      <td>4</td>\n",
              "      <td>Measurement 1 (2003-2006)</td>\n",
              "      <td>42.0</td>\n",
              "      <td>25.0</td>\n",
              "      <td>Not applicable</td>\n",
              "    </tr>\n",
              "    <tr>\n",
              "      <th>19</th>\n",
              "      <td>7</td>\n",
              "      <td>50</td>\n",
              "      <td>Female</td>\n",
              "      <td>4</td>\n",
              "      <td>Measurement 2 (2006-2008)</td>\n",
              "      <td>50.0</td>\n",
              "      <td>36.0</td>\n",
              "      <td>2.779146816</td>\n",
              "    </tr>\n",
              "  </tbody>\n",
              "</table>\n",
              "</div>"
            ],
            "text/plain": [
              "    Casenr  Age  Gender                            Education  \\\n",
              "0        1   74    Male     Lower secondary school (ISCED 2)   \n",
              "1        1   74    Male     Lower secondary school (ISCED 2)   \n",
              "2        1   74    Male     Lower secondary school (ISCED 2)   \n",
              "3        2   48    Male  Higher secondary school (ISCED 3-4)   \n",
              "4        2   48    Male  Higher secondary school (ISCED 3-4)   \n",
              "5        2   48    Male  Higher secondary school (ISCED 3-4)   \n",
              "6        3   54    Male  Higher secondary school (ISCED 3-4)   \n",
              "7        3   54    Male  Higher secondary school (ISCED 3-4)   \n",
              "8        3   54    Male  Higher secondary school (ISCED 3-4)   \n",
              "9        4   70    Male  Higher secondary school (ISCED 3-4)   \n",
              "10       4   70    Male  Higher secondary school (ISCED 3-4)   \n",
              "11       4   70    Male  Higher secondary school (ISCED 3-4)   \n",
              "12       5   52    Male               University (ISCED 5-6)   \n",
              "13       5   52    Male               University (ISCED 5-6)   \n",
              "14       5   52    Male               University (ISCED 5-6)   \n",
              "15       6   73    Male               University (ISCED 5-6)   \n",
              "16       6   73    Male               University (ISCED 5-6)   \n",
              "17       6   73    Male               University (ISCED 5-6)   \n",
              "18       7   50  Female                                    4   \n",
              "19       7   50  Female                                    4   \n",
              "\n",
              "                  Measurement  Unique  Perseverative        Interval  \n",
              "0   Measurement 1 (2003-2006)    32.0            1.0  Not applicable  \n",
              "1   Measurement 2 (2006-2008)    35.0            0.0     2.842122556  \n",
              "2   Measurement 3 (2008-2012)    50.5           14.5     2.201232033  \n",
              "3   Measurement 1 (2003-2006)    26.0            3.0  Not applicable  \n",
              "4   Measurement 2 (2006-2008)    47.0            3.0     2.762718362  \n",
              "5   Measurement 3 (2008-2012)    71.0            0.5     2.376454483  \n",
              "6   Measurement 1 (2003-2006)    91.0           11.0  Not applicable  \n",
              "7   Measurement 2 (2006-2008)    83.5           21.0     2.628552653  \n",
              "8   Measurement 3 (2008-2012)    77.0           17.0     3.392197125  \n",
              "9   Measurement 1 (2003-2006)    59.0           49.0  Not applicable  \n",
              "10  Measurement 2 (2006-2008)    54.0           39.0     2.762718362  \n",
              "11  Measurement 3 (2008-2012)    64.0           11.0     2.650239562  \n",
              "12  Measurement 1 (2003-2006)    60.0           14.0  Not applicable  \n",
              "13  Measurement 2 (2006-2008)    68.0           16.0     2.844860632  \n",
              "14  Measurement 3 (2008-2012)    21.0            0.0     2.247775496  \n",
              "15  Measurement 1 (2003-2006)    63.0           25.0  Not applicable  \n",
              "16  Measurement 2 (2006-2008)    68.5           18.0     2.801051421  \n",
              "17  Measurement 3 (2008-2012)    60.5           13.5      2.29431896  \n",
              "18  Measurement 1 (2003-2006)    42.0           25.0  Not applicable  \n",
              "19  Measurement 2 (2006-2008)    50.0           36.0     2.779146816  "
            ]
          },
          "metadata": {
            "tags": []
          },
          "execution_count": 39
        }
      ]
    },
    {
      "cell_type": "code",
      "metadata": {
        "id": "rQd9ikBKNT56",
        "colab_type": "code",
        "outputId": "b1f0e925-25b3-4fa2-db72-b83193cc47be",
        "colab": {}
      },
      "source": [
        "## 1.Is there a significant difference in the number of unique designs drawn by the same participants from Measurement 2 to Measurement 3?\n",
        "\n",
        "rfft_unique = rfft.pivot(index='Casenr', columns='Measurement', values='Unique')\n",
        "rfft_unique.head()"
      ],
      "execution_count": 0,
      "outputs": [
        {
          "output_type": "execute_result",
          "data": {
            "text/html": [
              "<div>\n",
              "<style scoped>\n",
              "    .dataframe tbody tr th:only-of-type {\n",
              "        vertical-align: middle;\n",
              "    }\n",
              "\n",
              "    .dataframe tbody tr th {\n",
              "        vertical-align: top;\n",
              "    }\n",
              "\n",
              "    .dataframe thead th {\n",
              "        text-align: right;\n",
              "    }\n",
              "</style>\n",
              "<table border=\"1\" class=\"dataframe\">\n",
              "  <thead>\n",
              "    <tr style=\"text-align: right;\">\n",
              "      <th>Measurement</th>\n",
              "      <th>Measurement 1 (2003-2006)</th>\n",
              "      <th>Measurement 2 (2006-2008)</th>\n",
              "      <th>Measurement 3 (2008-2012)</th>\n",
              "    </tr>\n",
              "    <tr>\n",
              "      <th>Casenr</th>\n",
              "      <th></th>\n",
              "      <th></th>\n",
              "      <th></th>\n",
              "    </tr>\n",
              "  </thead>\n",
              "  <tbody>\n",
              "    <tr>\n",
              "      <th>1</th>\n",
              "      <td>32.0</td>\n",
              "      <td>35.0</td>\n",
              "      <td>50.5</td>\n",
              "    </tr>\n",
              "    <tr>\n",
              "      <th>2</th>\n",
              "      <td>26.0</td>\n",
              "      <td>47.0</td>\n",
              "      <td>71.0</td>\n",
              "    </tr>\n",
              "    <tr>\n",
              "      <th>3</th>\n",
              "      <td>91.0</td>\n",
              "      <td>83.5</td>\n",
              "      <td>77.0</td>\n",
              "    </tr>\n",
              "    <tr>\n",
              "      <th>4</th>\n",
              "      <td>59.0</td>\n",
              "      <td>54.0</td>\n",
              "      <td>64.0</td>\n",
              "    </tr>\n",
              "    <tr>\n",
              "      <th>5</th>\n",
              "      <td>60.0</td>\n",
              "      <td>68.0</td>\n",
              "      <td>21.0</td>\n",
              "    </tr>\n",
              "  </tbody>\n",
              "</table>\n",
              "</div>"
            ],
            "text/plain": [
              "Measurement  Measurement 1 (2003-2006)  Measurement 2 (2006-2008)  \\\n",
              "Casenr                                                              \n",
              "1                                 32.0                       35.0   \n",
              "2                                 26.0                       47.0   \n",
              "3                                 91.0                       83.5   \n",
              "4                                 59.0                       54.0   \n",
              "5                                 60.0                       68.0   \n",
              "\n",
              "Measurement  Measurement 3 (2008-2012)  \n",
              "Casenr                                  \n",
              "1                                 50.5  \n",
              "2                                 71.0  \n",
              "3                                 77.0  \n",
              "4                                 64.0  \n",
              "5                                 21.0  "
            ]
          },
          "metadata": {
            "tags": []
          },
          "execution_count": 48
        }
      ]
    },
    {
      "cell_type": "code",
      "metadata": {
        "id": "sAJW3Ge6NT59",
        "colab_type": "code",
        "outputId": "ed3db5ba-5f75-4ed5-b0b8-9f18c1d0868f",
        "colab": {}
      },
      "source": [
        "plt.hist(rfft_unique['Measurement 3 (2008-2012)'] - rfft_unique['Measurement 2 (2006-2008)'])\n",
        "print(stats.describe(rfft_unique['Measurement 3 (2008-2012)'] - rfft_unique['Measurement 2 (2006-2008)']))\n",
        "# q to mentor: why are we taking difference and not plotting 2 histograms"
      ],
      "execution_count": 0,
      "outputs": [
        {
          "output_type": "stream",
          "text": [
            "DescribeResult(nobs=2515, minmax=(-75.5, 68.5), mean=4.015506958250497, variance=342.2368318331855, skewness=-0.15837265462838976, kurtosis=0.7823714353134701)\n"
          ],
          "name": "stdout"
        },
        {
          "output_type": "display_data",
          "data": {
            "image/png": "[encoded data removed]",
            "text/plain": [
              "<Figure size 432x288 with 1 Axes>"
            ]
          },
          "metadata": {
            "tags": [],
            "needs_background": "light"
          }
        }
      ]
    },
    {
      "cell_type": "code",
      "metadata": {
        "id": "5mQibXlpNT5_",
        "colab_type": "code",
        "outputId": "bfeee0bd-93d4-4c7d-ed09-873b3aa9ad4c",
        "colab": {}
      },
      "source": [
        "## We are taking the difference of measurements 1 and 2 and find that its normally distributed\n",
        "\n",
        "stats.ttest_rel(rfft_unique['Measurement 3 (2008-2012)'], rfft_unique['Measurement 2 (2006-2008)'])\n",
        "\n",
        "## P values are greater than 0.05, so the test is not significant, fail to reject."
      ],
      "execution_count": 0,
      "outputs": [
        {
          "output_type": "execute_result",
          "data": {
            "text/plain": [
              "Ttest_relResult(statistic=10.88544039426271, pvalue=5.3585747477799544e-27)"
            ]
          },
          "metadata": {
            "tags": []
          },
          "execution_count": 51
        }
      ]
    },
    {
      "cell_type": "code",
      "metadata": {
        "id": "goXxJYXoNT6D",
        "colab_type": "code",
        "outputId": "e66c8ff9-888d-43db-feb1-a85b699ab578",
        "colab": {}
      },
      "source": [
        "##Is there a significant difference in the number of perseverative errors drawn by the same participants from Measurement 2 to Measurement 3?\n",
        "\n",
        "rfft_persev = rfft.pivot(index='Casenr', columns='Measurement', values='Perseverative')\n",
        "rfft_persev.head()"
      ],
      "execution_count": 0,
      "outputs": [
        {
          "output_type": "execute_result",
          "data": {
            "text/html": [
              "<div>\n",
              "<style scoped>\n",
              "    .dataframe tbody tr th:only-of-type {\n",
              "        vertical-align: middle;\n",
              "    }\n",
              "\n",
              "    .dataframe tbody tr th {\n",
              "        vertical-align: top;\n",
              "    }\n",
              "\n",
              "    .dataframe thead th {\n",
              "        text-align: right;\n",
              "    }\n",
              "</style>\n",
              "<table border=\"1\" class=\"dataframe\">\n",
              "  <thead>\n",
              "    <tr style=\"text-align: right;\">\n",
              "      <th>Measurement</th>\n",
              "      <th>Measurement 1 (2003-2006)</th>\n",
              "      <th>Measurement 2 (2006-2008)</th>\n",
              "      <th>Measurement 3 (2008-2012)</th>\n",
              "    </tr>\n",
              "    <tr>\n",
              "      <th>Casenr</th>\n",
              "      <th></th>\n",
              "      <th></th>\n",
              "      <th></th>\n",
              "    </tr>\n",
              "  </thead>\n",
              "  <tbody>\n",
              "    <tr>\n",
              "      <th>1</th>\n",
              "      <td>1.0</td>\n",
              "      <td>0.0</td>\n",
              "      <td>14.5</td>\n",
              "    </tr>\n",
              "    <tr>\n",
              "      <th>2</th>\n",
              "      <td>3.0</td>\n",
              "      <td>3.0</td>\n",
              "      <td>0.5</td>\n",
              "    </tr>\n",
              "    <tr>\n",
              "      <th>3</th>\n",
              "      <td>11.0</td>\n",
              "      <td>21.0</td>\n",
              "      <td>17.0</td>\n",
              "    </tr>\n",
              "    <tr>\n",
              "      <th>4</th>\n",
              "      <td>49.0</td>\n",
              "      <td>39.0</td>\n",
              "      <td>11.0</td>\n",
              "    </tr>\n",
              "    <tr>\n",
              "      <th>5</th>\n",
              "      <td>14.0</td>\n",
              "      <td>16.0</td>\n",
              "      <td>0.0</td>\n",
              "    </tr>\n",
              "  </tbody>\n",
              "</table>\n",
              "</div>"
            ],
            "text/plain": [
              "Measurement  Measurement 1 (2003-2006)  Measurement 2 (2006-2008)  \\\n",
              "Casenr                                                              \n",
              "1                                  1.0                        0.0   \n",
              "2                                  3.0                        3.0   \n",
              "3                                 11.0                       21.0   \n",
              "4                                 49.0                       39.0   \n",
              "5                                 14.0                       16.0   \n",
              "\n",
              "Measurement  Measurement 3 (2008-2012)  \n",
              "Casenr                                  \n",
              "1                                 14.5  \n",
              "2                                  0.5  \n",
              "3                                 17.0  \n",
              "4                                 11.0  \n",
              "5                                  0.0  "
            ]
          },
          "metadata": {
            "tags": []
          },
          "execution_count": 52
        }
      ]
    },
    {
      "cell_type": "code",
      "metadata": {
        "id": "mo5iei4gNT6F",
        "colab_type": "code",
        "outputId": "67b67001-2e1d-4122-b8af-7eba48952ffe",
        "colab": {}
      },
      "source": [
        "plt.hist(rfft_persev['Measurement 3 (2008-2012)'], alpha = .5)\n",
        "plt.hist(rfft_persev['Measurement 2 (2006-2008)'], alpha = .5)"
      ],
      "execution_count": 0,
      "outputs": [
        {
          "output_type": "execute_result",
          "data": {
            "text/plain": [
              "(array([1.821e+03, 4.560e+02, 1.210e+02, 5.200e+01, 2.800e+01, 1.600e+01,\n",
              "        1.300e+01, 3.000e+00, 4.000e+00, 1.000e+00]),\n",
              " array([  0.  ,  13.35,  26.7 ,  40.05,  53.4 ,  66.75,  80.1 ,  93.45,\n",
              "        106.8 , 120.15, 133.5 ]),\n",
              " <a list of 10 Patch objects>)"
            ]
          },
          "metadata": {
            "tags": []
          },
          "execution_count": 53
        },
        {
          "output_type": "display_data",
          "data": {
            "image/png": "[encoded data removed]",
            "text/plain": [
              "<Figure size 432x288 with 1 Axes>"
            ]
          },
          "metadata": {
            "tags": [],
            "needs_background": "light"
          }
        }
      ]
    },
    {
      "cell_type": "code",
      "metadata": {
        "id": "Qn3gtu84NT6I",
        "colab_type": "code",
        "outputId": "b357aad5-fb56-453b-d0d8-ed0bad4be55a",
        "colab": {}
      },
      "source": [
        "## Looks non normal so we will use Wilcoxon\n",
        "\n",
        "# Reject the null, there is a significant difference between perseverative errors from participants @ measurements 3 and 2\n",
        "\n",
        "stats.wilcoxon(rfft_persev['Measurement 3 (2008-2012)'], rfft_persev['Measurement 2 (2006-2008)'])"
      ],
      "execution_count": 0,
      "outputs": [
        {
          "output_type": "execute_result",
          "data": {
            "text/plain": [
              "WilcoxonResult(statistic=1358373.0, pvalue=0.0006927535563546565)"
            ]
          },
          "metadata": {
            "tags": []
          },
          "execution_count": 54
        }
      ]
    },
    {
      "cell_type": "code",
      "metadata": {
        "id": "Qxfzfk56NT6K",
        "colab_type": "code",
        "colab": {}
      },
      "source": [
        ""
      ],
      "execution_count": 0,
      "outputs": []
    }
  ]
}