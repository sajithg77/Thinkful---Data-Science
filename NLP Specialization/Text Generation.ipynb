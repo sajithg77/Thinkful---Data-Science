{
 "cells": [
  {
   "cell_type": "markdown",
   "metadata": {
    "colab_type": "text",
    "id": "x4FBYk5Uc1WZ"
   },
   "source": [
    "# Solutions to Checkpoint 8"
   ]
  },
  {
   "cell_type": "markdown",
   "metadata": {
    "colab_type": "text",
    "id": "_NWgmGEic1Wb"
   },
   "source": [
    "## 1. First, make some data preprocessing to clean up the data if you feel necessary. You can use your solution to the assignment of the data preprocessing checkpoint of this module."
   ]
  },
  {
   "cell_type": "code",
   "execution_count": 1,
   "metadata": {
    "colab": {
     "base_uri": "https://localhost:8080/",
     "height": 496
    },
    "colab_type": "code",
    "id": "ZtYZ84I1gf73",
    "outputId": "7de1e586-77aa-4664-e501-5a6e86a21a4c"
   },
   "outputs": [
    {
     "name": "stdout",
     "output_type": "stream",
     "text": [
      "Requirement already satisfied: en_core_web_sm==2.1.0 from https://github.com/explosion/spacy-models/releases/download/en_core_web_sm-2.1.0/en_core_web_sm-2.1.0.tar.gz#egg=en_core_web_sm==2.1.0 in /Users/sajithgowthaman/opt/anaconda3/lib/python3.7/site-packages (2.1.0)\n",
      "\u001b[38;5;2m✔ Download and installation successful\u001b[0m\n",
      "You can now load the model via spacy.load('en_core_web_sm')\n",
      "\u001b[38;5;2m✔ Linking successful\u001b[0m\n",
      "/Users/sajithgowthaman/opt/anaconda3/lib/python3.7/site-packages/en_core_web_sm\n",
      "-->\n",
      "/Users/sajithgowthaman/opt/anaconda3/lib/python3.7/site-packages/spacy/data/en\n",
      "You can now load the model via spacy.load('en')\n"
     ]
    }
   ],
   "source": [
    "import matplotlib.pyplot as plt\n",
    "import pandas as pd\n",
    "from sqlalchemy import create_engine\n",
    "import spacy\n",
    "import markovify\n",
    "\n",
    "\n",
    "import warnings\n",
    "warnings.filterwarnings(action=\"ignore\")\n",
    "\n",
    "!python -m spacy download en"
   ]
  },
  {
   "cell_type": "code",
   "execution_count": 2,
   "metadata": {
    "colab": {},
    "colab_type": "code",
    "id": "cYAH9hr49GbR"
   },
   "outputs": [],
   "source": [
    "postgres_user = 'dsbc_student'\n",
    "postgres_pw = '7*.8G9QH21'\n",
    "postgres_host = '142.93.121.174'\n",
    "postgres_port = '5432'\n",
    "postgres_db = 'twitter_sentiment'\n",
    "\n",
    "engine = create_engine('postgresql://{}:{}@{}:{}/{}'.format(\n",
    "    postgres_user, postgres_pw, postgres_host, postgres_port, postgres_db))\n",
    "\n",
    "tweets_df = pd.read_sql_query('select * from twitter',con=engine)\n",
    "\n",
    "# no need for an open connection, as we're only doing a single query\n",
    "engine.dispose()"
   ]
  },
  {
   "cell_type": "code",
   "execution_count": 3,
   "metadata": {
    "colab": {},
    "colab_type": "code",
    "id": "8blXND3jiRM3"
   },
   "outputs": [
    {
     "data": {
      "text/html": [
       "<div>\n",
       "<style scoped>\n",
       "    .dataframe tbody tr th:only-of-type {\n",
       "        vertical-align: middle;\n",
       "    }\n",
       "\n",
       "    .dataframe tbody tr th {\n",
       "        vertical-align: top;\n",
       "    }\n",
       "\n",
       "    .dataframe thead th {\n",
       "        text-align: right;\n",
       "    }\n",
       "</style>\n",
       "<table border=\"1\" class=\"dataframe\">\n",
       "  <thead>\n",
       "    <tr style=\"text-align: right;\">\n",
       "      <th></th>\n",
       "      <th>index</th>\n",
       "      <th>tweet_id</th>\n",
       "      <th>airline_sentiment</th>\n",
       "      <th>airline_sentiment_confidence</th>\n",
       "      <th>negativereason</th>\n",
       "      <th>negativereason_confidence</th>\n",
       "      <th>airline</th>\n",
       "      <th>airline_sentiment_gold</th>\n",
       "      <th>name</th>\n",
       "      <th>negativereason_gold</th>\n",
       "      <th>retweet_count</th>\n",
       "      <th>text</th>\n",
       "      <th>tweet_coord</th>\n",
       "      <th>tweet_created</th>\n",
       "      <th>tweet_location</th>\n",
       "      <th>user_timezone</th>\n",
       "    </tr>\n",
       "  </thead>\n",
       "  <tbody>\n",
       "    <tr>\n",
       "      <th>0</th>\n",
       "      <td>0</td>\n",
       "      <td>570306133677760513</td>\n",
       "      <td>neutral</td>\n",
       "      <td>1.0000</td>\n",
       "      <td>None</td>\n",
       "      <td>NaN</td>\n",
       "      <td>Virgin America</td>\n",
       "      <td>None</td>\n",
       "      <td>cairdin</td>\n",
       "      <td>None</td>\n",
       "      <td>0</td>\n",
       "      <td>@VirginAmerica What @dhepburn said.</td>\n",
       "      <td>None</td>\n",
       "      <td>2015-02-24 11:35:52 -0800</td>\n",
       "      <td>None</td>\n",
       "      <td>Eastern Time (US &amp; Canada)</td>\n",
       "    </tr>\n",
       "    <tr>\n",
       "      <th>1</th>\n",
       "      <td>1</td>\n",
       "      <td>570301130888122368</td>\n",
       "      <td>positive</td>\n",
       "      <td>0.3486</td>\n",
       "      <td>None</td>\n",
       "      <td>0.0000</td>\n",
       "      <td>Virgin America</td>\n",
       "      <td>None</td>\n",
       "      <td>jnardino</td>\n",
       "      <td>None</td>\n",
       "      <td>0</td>\n",
       "      <td>@VirginAmerica plus you've added commercials t...</td>\n",
       "      <td>None</td>\n",
       "      <td>2015-02-24 11:15:59 -0800</td>\n",
       "      <td>None</td>\n",
       "      <td>Pacific Time (US &amp; Canada)</td>\n",
       "    </tr>\n",
       "    <tr>\n",
       "      <th>2</th>\n",
       "      <td>2</td>\n",
       "      <td>570301083672813571</td>\n",
       "      <td>neutral</td>\n",
       "      <td>0.6837</td>\n",
       "      <td>None</td>\n",
       "      <td>NaN</td>\n",
       "      <td>Virgin America</td>\n",
       "      <td>None</td>\n",
       "      <td>yvonnalynn</td>\n",
       "      <td>None</td>\n",
       "      <td>0</td>\n",
       "      <td>@VirginAmerica I didn't today... Must mean I n...</td>\n",
       "      <td>None</td>\n",
       "      <td>2015-02-24 11:15:48 -0800</td>\n",
       "      <td>Lets Play</td>\n",
       "      <td>Central Time (US &amp; Canada)</td>\n",
       "    </tr>\n",
       "    <tr>\n",
       "      <th>3</th>\n",
       "      <td>3</td>\n",
       "      <td>570301031407624196</td>\n",
       "      <td>negative</td>\n",
       "      <td>1.0000</td>\n",
       "      <td>Bad Flight</td>\n",
       "      <td>0.7033</td>\n",
       "      <td>Virgin America</td>\n",
       "      <td>None</td>\n",
       "      <td>jnardino</td>\n",
       "      <td>None</td>\n",
       "      <td>0</td>\n",
       "      <td>@VirginAmerica it's really aggressive to blast...</td>\n",
       "      <td>None</td>\n",
       "      <td>2015-02-24 11:15:36 -0800</td>\n",
       "      <td>None</td>\n",
       "      <td>Pacific Time (US &amp; Canada)</td>\n",
       "    </tr>\n",
       "    <tr>\n",
       "      <th>4</th>\n",
       "      <td>4</td>\n",
       "      <td>570300817074462722</td>\n",
       "      <td>negative</td>\n",
       "      <td>1.0000</td>\n",
       "      <td>Can't Tell</td>\n",
       "      <td>1.0000</td>\n",
       "      <td>Virgin America</td>\n",
       "      <td>None</td>\n",
       "      <td>jnardino</td>\n",
       "      <td>None</td>\n",
       "      <td>0</td>\n",
       "      <td>@VirginAmerica and it's a really big bad thing...</td>\n",
       "      <td>None</td>\n",
       "      <td>2015-02-24 11:14:45 -0800</td>\n",
       "      <td>None</td>\n",
       "      <td>Pacific Time (US &amp; Canada)</td>\n",
       "    </tr>\n",
       "  </tbody>\n",
       "</table>\n",
       "</div>"
      ],
      "text/plain": [
       "   index            tweet_id airline_sentiment  airline_sentiment_confidence  \\\n",
       "0      0  570306133677760513           neutral                        1.0000   \n",
       "1      1  570301130888122368          positive                        0.3486   \n",
       "2      2  570301083672813571           neutral                        0.6837   \n",
       "3      3  570301031407624196          negative                        1.0000   \n",
       "4      4  570300817074462722          negative                        1.0000   \n",
       "\n",
       "  negativereason  negativereason_confidence         airline  \\\n",
       "0           None                        NaN  Virgin America   \n",
       "1           None                     0.0000  Virgin America   \n",
       "2           None                        NaN  Virgin America   \n",
       "3     Bad Flight                     0.7033  Virgin America   \n",
       "4     Can't Tell                     1.0000  Virgin America   \n",
       "\n",
       "  airline_sentiment_gold        name negativereason_gold  retweet_count  \\\n",
       "0                   None     cairdin                None              0   \n",
       "1                   None    jnardino                None              0   \n",
       "2                   None  yvonnalynn                None              0   \n",
       "3                   None    jnardino                None              0   \n",
       "4                   None    jnardino                None              0   \n",
       "\n",
       "                                                text tweet_coord  \\\n",
       "0                @VirginAmerica What @dhepburn said.        None   \n",
       "1  @VirginAmerica plus you've added commercials t...        None   \n",
       "2  @VirginAmerica I didn't today... Must mean I n...        None   \n",
       "3  @VirginAmerica it's really aggressive to blast...        None   \n",
       "4  @VirginAmerica and it's a really big bad thing...        None   \n",
       "\n",
       "               tweet_created tweet_location               user_timezone  \n",
       "0  2015-02-24 11:35:52 -0800           None  Eastern Time (US & Canada)  \n",
       "1  2015-02-24 11:15:59 -0800           None  Pacific Time (US & Canada)  \n",
       "2  2015-02-24 11:15:48 -0800      Lets Play  Central Time (US & Canada)  \n",
       "3  2015-02-24 11:15:36 -0800           None  Pacific Time (US & Canada)  \n",
       "4  2015-02-24 11:14:45 -0800           None  Pacific Time (US & Canada)  "
      ]
     },
     "execution_count": 3,
     "metadata": {},
     "output_type": "execute_result"
    }
   ],
   "source": [
    "tweets_df.head()"
   ]
  },
  {
   "cell_type": "code",
   "execution_count": 4,
   "metadata": {
    "colab": {
     "base_uri": "https://localhost:8080/",
     "height": 232
    },
    "colab_type": "code",
    "id": "kPgxcStugk-n",
    "outputId": "9f275f11-1e6a-4a27-9d76-70589aad1305"
   },
   "outputs": [],
   "source": [
    "nlp = spacy.load('en')\n",
    "\n",
    "# below is necessary to avoid memory error of SpaCy\n",
    "nlp.max_length = 20000000\n",
    "\n",
    "# all the processing work is done below, so it may take a while\n",
    "twitter_doc = nlp(\" \".join(tweets_df.text))"
   ]
  },
  {
   "cell_type": "markdown",
   "metadata": {
    "colab_type": "text",
    "id": "ZGm7zTogc1Wc"
   },
   "source": [
    "## 2. Train a Markov chain model by using only the negative sentiment tweets. Generate some random sentences. Are the generated sentences exhibit the same negative sentiment?"
   ]
  },
  {
   "cell_type": "code",
   "execution_count": 5,
   "metadata": {
    "colab": {},
    "colab_type": "code",
    "id": "Vsxdb5NPjN1G"
   },
   "outputs": [
    {
     "data": {
      "text/plain": [
       "3        @VirginAmerica it's really aggressive to blast...\n",
       "4        @VirginAmerica and it's a really big bad thing...\n",
       "5        @VirginAmerica seriously would pay $30 a fligh...\n",
       "15           @VirginAmerica SFO-PDX schedule is still MIA.\n",
       "17       @VirginAmerica  I flew from NYC to SFO last we...\n",
       "                               ...                        \n",
       "14631    @AmericanAir How do I change my flight if the ...\n",
       "14633    @AmericanAir thx for nothing on getting us out...\n",
       "14635    @AmericanAir my flight was Cancelled Flightled...\n",
       "14636    @AmericanAir leaving over 20 minutes Late Flig...\n",
       "14638    @AmericanAir you have my money, you change my ...\n",
       "Name: text, Length: 9178, dtype: object"
      ]
     },
     "execution_count": 5,
     "metadata": {},
     "output_type": "execute_result"
    }
   ],
   "source": [
    "tweets_df[tweets_df[\"airline_sentiment\"]==\"negative\"].text"
   ]
  },
  {
   "cell_type": "code",
   "execution_count": 6,
   "metadata": {
    "colab": {},
    "colab_type": "code",
    "id": "jnm5jUjTg5wG",
    "scrolled": true
   },
   "outputs": [
    {
     "name": "stdout",
     "output_type": "stream",
     "text": [
      "SOMEONE PLEASE HELP ME @USAirways gate agent in CLT forced me to check my CC everytime @united Is flight 746 going to sit on the tarmac while they move a plane from DCA to MSY was Cancelled Flightled, so got rebooked to ORD @AmericanAir it's GTSVYB.\n",
      "@SouthwestAir this is not a good option @united I’ve filled out the form that no one can find.\n",
      "40 minutes to get anything.\n",
      "@USAirways it doesn't take 6 days to respond to everyone else's complaints but not mine.\n",
      "We tried calling customer relations but there is a full day till departure is unacceptable.\n",
      "@USAirways even if I was there 12 hrs early!\n",
      "My girlfriend Amy Lloyd is going to charge for a bag w PRIORITY on it?why do u cont to not care for EP's?\n",
      "Kept us waiting on plane!!! @united again, you said to go take the time to get drunk and tell you how horrible you're attendants are.\n",
      "Yall petty @JetBlue I just booked a flight yesterday but didnt receive an email confirmation for my ticket, but the credit card was charged on the transaction when I was trying to be a good sport and give you guys another shot.\n",
      "But in all seriousness, what's an acceptable time I should have gotten on!?! @united Then why did your alert arrive so Late Flight?\n",
      "LAX is a madhouse with a lot of time and poor communication @united my flight was supposed to be on its way File number: DCA48810M #Fail @united was trying to be a loyal JB customer anymore!\n",
      "Kinda unsettling to get a plane PHL-MIA?\n",
      "@harris .@united Will breaking them in somehow make them longer so that they don't honor #badairline @JetBlue how about free wifi on flt 1254 out of PBI to make up for it @USAirways my sister was supposed to be six hours from now.\n",
      "Would have been nice not to have to stop for fuel exhausted frequent flier and united premiere gold.\n",
      "Never flying AA again if can be avoided #fail #pathetic @AmericanAir I have been trying to get through the 50 minute wait times when I've had to call back this AM Now your system is down and after being on hold for 2 hours to change a Thursday flight and there's a fee...\n",
      "@united sorry , I hate united. i won't get to see my miles back despite agent confirmation.\n",
      "@USAirways I've been on hold for the past 24 hours.\n",
      "#5hourwait #nocrew @USAirways been on hold for 2 hours a weather issue?\n",
      "It is now going to Chicago as flight crew out of hours due to a staff members screw up.\n",
      "@USAirways I did, but it won't even do THAT.\n",
      "In any other industry, you Cancelled Flight the previous reservation.\n",
      "1/2 @united you can't say the flight is not going to help.\n",
      "We were being told the plan has to be the absolute WORST EXPERIENCE EVER!\n",
      "If they say that I was @USAirways thank you for the reply.\n",
      "There has to be the passenger on the plane waiting for baggage to be transported.\n",
      "Ridiculous as I had to spend @USAirways I asked if that was SOP, and they said “ It is now.\n",
      "True blue points and I can't change @UsAirways can a real person on the phone for over an hour.\n",
      "It was Cancelled Flightled, #4487?\n",
      "@AmericanAir 2nd time in a row I call and still can't get anyone from AA.\n",
      "@united #epicfail on #CX as flight from Frankfurt to San Francisco is delayed due to weather.\n",
      "@united have better customer service in Denver.\n",
      "I'm actually getting used to getting it delivered to the Embassy Suites in Herndon, VA.\n",
      "@AmericanAir how have you not sent the plane from the hanger!\n",
      "#worstflightever #ideserveareward http://t.co/l7hSnLgie2 @SouthwestAir yes we did make it home.\n",
      "@JetBlue you want me to talk to to get a a clue and start treating people like humans, not animals.\n",
      "I am yet to be in the air.\n",
      "Flight moved to 7am but they won't honor a lower fare that I found.\n",
      "I upgraded return leg and 6 months Late Flightr still no answers stuck in Houston.\n",
      "@AmericanAir yes there's issues on the site in an hour.\n",
      "It's on us air, so I don't think you'll make a plane appear.\n"
     ]
    }
   ],
   "source": [
    "# all the processing work is done below, so it may take a while\n",
    "# Let's pick the text column for negative tweets of the airline sentiment and document it.\n",
    "twitter_negative_doc = nlp(\" \".join(tweets_df[tweets_df[\"airline_sentiment\"]==\"negative\"].text))\n",
    "\n",
    "#Choose sentences with more than 1 character.\n",
    "tweet_negative_sents = \" \".join([sent.text for sent in twitter_negative_doc.sents if len(sent.text) > 1])\n",
    "\n",
    "tweet_negative_generator = markovify.Text(tweet_negative_sents, state_size = 3)\n",
    "\n",
    "# three randomly generated negative sentences\n",
    "for i in range(20):\n",
    "    print(tweet_negative_generator.make_sentence(tries=100))\n",
    "\n",
    "# three randomly-generated negative sentences of no more than 100 characters\n",
    "for i in range(20):\n",
    "    print(tweet_negative_generator.make_short_sentence(100, tries=100))"
   ]
  },
  {
   "cell_type": "markdown",
   "metadata": {
    "colab_type": "text",
    "id": "XcM-zATb9Gbe"
   },
   "source": [
    "Clearly the generated tweets show a negative sentiment."
   ]
  },
  {
   "cell_type": "markdown",
   "metadata": {
    "colab_type": "text",
    "id": "43tB51kkc1Wc"
   },
   "source": [
    "## 3. Do the previous task this time by using only the positive sentiment tweets. Generate some random sentences and observe whether they exhibit positive sentiment or not."
   ]
  },
  {
   "cell_type": "code",
   "execution_count": 7,
   "metadata": {
    "colab": {
     "base_uri": "https://localhost:8080/",
     "height": 232
    },
    "colab_type": "code",
    "id": "7gHrlrXphfFl",
    "outputId": "219349af-bf14-467c-b9e0-856b7ede4bf2",
    "scrolled": true
   },
   "outputs": [
    {
     "name": "stdout",
     "output_type": "stream",
     "text": [
      "#PromoteThatGirl @USAirways Thank you for the tip!\n",
      "“@JetBlue : Our fleet's on fleek. http://t.co/EUl6sDURbU @JetBlue Gotcha... thanks for the upgrade😉!! so far so good this week.\n",
      "@JetBlue Love you guys😍😍😍 http://t.co/3X9NRUOvtS @JetBlue you're still the best airline out there no one is better than nothing at all {ahem, @USAirways} @AmericanAir those were snacks we left on a flight today.\n",
      "I know everyone is working hard to get us out of the snow.\n",
      "@USAirways Ann Marie at LGA is the best part of flying!\n",
      "It would mean LUV is in the air. http://t.co/YNc2ZUt4zz @SouthwestAir thanks!\n",
      "@JetBlue Thanks for the follow up.\n",
      "@JetBlue Worked now, ty @JetBlue I would go anywhere JetBlue goes.\n",
      "#usairways http://t.co/Gt6umHbh43 @AmericanAir thank you @AmericanAir simply amazing.\n",
      "IAH to DFW to OKC has turned out to be a member of the #inflight crew team...\n",
      "@AmericanAir Thank you so much!\n",
      "Took care of it when I called @united awesome thank you very very much!! 💙💙 @JetBlue Awww thank you B6!\n",
      "NO to @Carrieunderwood @VirginAmerica you know what would be amazingly awesome?\n",
      "He ought to give a warm thanks to your outstanding NYC-JFK crew who moved mountains to get me rebooked @USAirways I love you guys!\n",
      "@SouthwestAir I love you @JetBlue thank you for reaching out @USAirways thanks very much!\n",
      "@JetBlue #Jetbae @JetBlue Thank you for the speedy response!\n",
      "@united Gate Agent Alavera is amazing @united wins top marks for customer service today &amp; for helping me for literally two hours!\n",
      "#SOhappy @SouthwestAir never mind, I moved my flight to Austin in two weeks.\n",
      "#eternity #5amMisery @JetBlue thanks for the drink tickets hook up!\n",
      "We need you to take us out of the Bahamas, even during the bad weather in the northeast, thanks for the reply.\n",
      "So glad to get my issue resoled.\n",
      "@AmericanAir great customer service today now I'll be able to contact me?\n",
      "@USAirways i got through and they were able to help out!\n",
      "” Me and JetBlue are #BFF 🙏 @JetBlue thanks for a speedy flight time recovery.\n",
      "@USAirways Exicted to be flying with you all.\n",
      "I'm excited to see you on board with us!\n",
      "@SouthwestAir THANK YOU SO MUCH @SouthwestAir thank you!\n",
      "@JetBlue thank you for responding so promptly!\n",
      "Southwest Rocks!! Always!! https://t.co/q8VSfFRd1u @SouthwestAir shout out to his Twitter team.\n",
      "Southwest Rocks!! Always!! https://t.co/q8VSfFRd1u @SouthwestAir shout out to his Twitter team.\n",
      "@JetBlue you guys are awesome...\n",
      "Flight #69 from BOS to PHL is doing a great job landing in the snow.\n",
      "@JetBlue thank you thank you for responding rather quickly btw @AmericanAir ok thank you.\n",
      "It is very much appreciated @JetBlue Thank you for the response.\n",
      "@JetBlue my family and I are excited to see it :D @SouthwestAir Thanks for helping out!\n",
      "Rachel S. took great care of us on our double down flight!\n",
      "@SouthwestAir Thanks for the help.\n",
      "@SouthwestAir - I just had a great flight #4223 with Damion!\n",
      "@SouthwestAir Another great flight #FunFlightAttendants.\n",
      "@NinaDavuluri We think it's a treat to have you fly with us, JB!\n"
     ]
    }
   ],
   "source": [
    "# all the processing work is done below, so it may take a while\n",
    "twitter_positive_doc = nlp(\" \".join(tweets_df[tweets_df[\"airline_sentiment\"]==\"positive\"].text))\n",
    "\n",
    "tweet_positive_sents = \" \".join([sent.text for sent in twitter_positive_doc.sents if len(sent.text) > 1])\n",
    "\n",
    "tweet_positive_generator = markovify.Text(tweet_positive_sents, state_size = 3)\n",
    "\n",
    "# three randomly generated sentences\n",
    "for i in range(20):\n",
    "    print(tweet_positive_generator.make_sentence(tries=100))\n",
    "\n",
    "# three randomly-generated sentences of no more than 100 characters\n",
    "for i in range(20):\n",
    "    print(tweet_positive_generator.make_short_sentence(100, tries=100))"
   ]
  },
  {
   "cell_type": "markdown",
   "metadata": {
    "colab_type": "text",
    "id": "kfmRPHAi9Gbj"
   },
   "source": [
    "This time we observe positive sentiments generally."
   ]
  },
  {
   "cell_type": "markdown",
   "metadata": {
    "colab_type": "text",
    "id": "Xi2_3NgVc1Wd"
   },
   "source": [
    "## 4. This time train your Markov chain model using all the tweets and generate some random sentences. Can you say something systematic about the sentiments of the generated tweets?"
   ]
  },
  {
   "cell_type": "code",
   "execution_count": 8,
   "metadata": {
    "colab": {},
    "colab_type": "code",
    "id": "_qdBaoneigDH",
    "scrolled": true
   },
   "outputs": [
    {
     "name": "stdout",
     "output_type": "stream",
     "text": [
      "Still need to improve service # united @united perhaps you could scale your excitement back by a few weeks...\n",
      "@united once again my bag is in San Jose.\n",
      "Am I to sleep in a toddler bed at the airport with the appropriate amount of time for the wife and my 15th anniversary!\n",
      "2+ hour hold times are long can I expect the formal response to take?\n",
      "Is that something I can do to help?\n",
      "Going through multiple prompts &amp; menus just to be told I need to Cancelled Flight my flight.\n",
      "Fingers crossed we get into the disaster that was checking bags.\n",
      "@JetBlue I'd go to Portsmouth, NH to take care of @LSUsoftball team &amp; @LSUQuinlanDuhon team.\n",
      "But more than two hours Late Flight and gets on to PHL @USAirways the link doesn't work..\n",
      "Is there any chance I could bump up my flight time and the attendants at MKE made my day!\n",
      "Auto rebooked to Tuesday??? Then 3hr 26min on hold for almost an hour, waiting to make a ticket change via Twitter?\n",
      "2 hr delay is a vacation buzzkill @united just touched down in #NewOrleans for the annual @HeinekenUSACorp national distributor conference!\n",
      "@usairways I have been trying to reach customer service only to have my call.\n",
      "@united no u don't @united how much does it cost $900 to change a flight!\n",
      "@united I can understand that but i should still be able to retrieve my checked bag otherwise they would charge me $200.\n",
      "@USAirways THANK YOU for your kindness.\n",
      "@AmericanAir I still can't get through TSA @USAirways cardholder is flying.\n",
      "@AmericanAir are you expecting flights out of DCA tomorrow afternoon?\n",
      "@united can you please have your employee that has been sitting in que for 40 mins!\n",
      "My app says on time.\n",
      "#customerappreciation #gaincustomers #keepem2 @SouthwestAir What an awesome flight and depart time.\n",
      "Thanks @AmericanAir 77min still on hold if you're wondering...\n",
      "How do I know this is probably a no but is there nothing that can be a stop over before Paris.\n",
      "Being on hold for 45 minutes trying to rebook flight.\n",
      "@AmericanAir i got a new flight but have not heard anything.\n",
      "Your gate agents are to busy to assist and hangs up.\n",
      "@USAirways thanks to you, you have now lost my bag.\n",
      ":P You guys are awesome.\n",
      "Anything specific I should know for my first cross country flight.\n",
      "Brutal @SouthwestAir was on flight 1644 SNA to DFW and my flight on hold Cancelled Flights?\n",
      "Willing to fly to Orlando!\n",
      "I did contact customer service to a new level.\n",
      "Whats wrong with you guys again!\n",
      "@JetBlue when I check in online for my flight that I had tried to make the A Line.\n",
      "#slapintheface @AmericanAir is the worst customer service I experienced was horrible.\n",
      "5+ hrs Late Flightr while I was complaining.\n",
      "For the @runDisney #PrincessHalf http://t.co/sTQY9V8256 @JetBlue How is travel bank credit go?\n",
      "Need to be flying with you @United UA1740.\n",
      "Over 3 hours to get my emails.\n",
      "@SouthwestAir I have been expecting The same for 3 hours for a deadhead crew.\n"
     ]
    }
   ],
   "source": [
    "# all the processing work is done below, so it may take a while\n",
    "twitter_doc = nlp(\" \".join(tweets_df.text))\n",
    "\n",
    "tweet_sents = \" \".join([sent.text for sent in twitter_doc.sents if len(sent.text) > 1])\n",
    "\n",
    "tweet_generator = markovify.Text(tweet_sents, state_size = 3)\n",
    "\n",
    "# three randomly generated sentences\n",
    "for i in range(20):\n",
    "    print(tweet_generator.make_sentence(tries=100))\n",
    "\n",
    "# three randomly-generated sentences of no more than 100 characters\n",
    "for i in range(20):\n",
    "    print(tweet_generator.make_short_sentence(100, tries=100))"
   ]
  },
  {
   "cell_type": "markdown",
   "metadata": {
    "colab_type": "text",
    "id": "a7jaTXZ09Gbm"
   },
   "source": [
    "We can see both positive and negative sentiments this time."
   ]
  }
 ],
 "metadata": {
  "colab": {
   "collapsed_sections": [],
   "name": "Copy of 8.solution_text_generation.ipynb",
   "provenance": []
  },
  "kernelspec": {
   "display_name": "Python 3",
   "language": "python",
   "name": "python3"
  },
  "language_info": {
   "codemirror_mode": {
    "name": "ipython",
    "version": 3
   },
   "file_extension": ".py",
   "mimetype": "text/x-python",
   "name": "python",
   "nbconvert_exporter": "python",
   "pygments_lexer": "ipython3",
   "version": "3.7.4"
  },
  "latex_envs": {
   "LaTeX_envs_menu_present": true,
   "autoclose": false,
   "autocomplete": true,
   "bibliofile": "biblio.bib",
   "cite_by": "apalike",
   "current_citInitial": 1,
   "eqLabelWithNumbers": true,
   "eqNumInitial": 1,
   "hotkeys": {
    "equation": "Ctrl-E",
    "itemize": "Ctrl-I"
   },
   "labels_anchors": false,
   "latex_user_defs": false,
   "report_style_numbering": false,
   "user_envs_cfg": false
  },
  "varInspector": {
   "cols": {
    "lenName": 16,
    "lenType": 16,
    "lenVar": 40
   },
   "kernels_config": {
    "python": {
     "delete_cmd_postfix": "",
     "delete_cmd_prefix": "del ",
     "library": "var_list.py",
     "varRefreshCmd": "print(var_dic_list())"
    },
    "r": {
     "delete_cmd_postfix": ") ",
     "delete_cmd_prefix": "rm(",
     "library": "var_list.r",
     "varRefreshCmd": "cat(var_dic_list()) "
    }
   },
   "types_to_exclude": [
    "module",
    "function",
    "builtin_function_or_method",
    "instance",
    "_Feature"
   ],
   "window_display": false
  }
 },
 "nbformat": 4,
 "nbformat_minor": 1
}
